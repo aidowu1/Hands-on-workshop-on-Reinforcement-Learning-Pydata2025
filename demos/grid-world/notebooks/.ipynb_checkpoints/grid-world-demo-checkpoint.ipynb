{
 "cells": [
  {
   "metadata": {},
   "cell_type": "markdown",
   "source": "",
   "id": "5344cfc1a446bf1b"
  },
  {
   "metadata": {},
   "cell_type": "markdown",
   "source": [
    "## Grid world demo\n",
    " - Simple demonstration of the classical grid-world RL environment\n",
    " - This notebook demonstrates the following:\n",
    "  - A random agent (very useless!)\n",
    "  - A Q-learning agent ( much more intelligent and useful!)"
   ],
   "id": "b156e886f71606df"
  },
  {
   "metadata": {},
   "cell_type": "code",
   "outputs": [],
   "execution_count": null,
   "source": "",
   "id": "6c7c7250d90d00e"
  },
  {
   "metadata": {},
   "cell_type": "markdown",
   "source": "",
   "id": "2aae49c4b8636d54"
  }
 ],
 "metadata": {
  "kernelspec": {
   "display_name": "Python 3",
   "language": "python",
   "name": "python3"
  },
  "language_info": {
   "codemirror_mode": {
    "name": "ipython",
    "version": 2
   },
   "file_extension": ".py",
   "mimetype": "text/x-python",
   "name": "python",
   "nbconvert_exporter": "python",
   "pygments_lexer": "ipython2",
   "version": "2.7.6"
  }
 },
 "nbformat": 4,
 "nbformat_minor": 5
}
