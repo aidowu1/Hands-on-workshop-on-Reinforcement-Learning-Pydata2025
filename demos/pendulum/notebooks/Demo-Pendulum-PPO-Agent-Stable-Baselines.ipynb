{
 "cells": [
  {
   "metadata": {},
   "cell_type": "markdown",
   "source": [
    "## Demo Pendulum using PPO agent (using Stable-baselines RL library)\n",
    " - Demonstrates the [Pendulum problem](https://gymnasium.farama.org/environments/classic_control/pendulum/)\n",
    " - The inverted pendulum swingup problem is based on the classic problem in control theory. The system consists of a pendulum attached at one end to a fixed point, and the other end being free. The pendulum starts in a random position and the goal is to apply torque on the free end to swing it into an upright position, with its center of gravity right above the fixed point.\n",
    " - The use of a PPO agent is used to balance the Cart-pole\n",
    " - Steps of the solution include:\n",
    "   - Step 1: Add imports\n",
    "   - Step 2: Instantiate the environment and the PPO agent\n",
    "   - Step 3: Train the PPO RL agent\n",
    "   - Step 4: Plot the reward curves of the trained RL agent\n",
    "   - Step 5: Evaluate the trained PPO RL agent\n"
   ],
   "id": "54d6dee4736dfa7b"
  },
  {
   "metadata": {},
   "cell_type": "markdown",
   "source": "#### Step 1: Add imports",
   "id": "e578cf4e1b541355"
  },
  {
   "metadata": {
    "ExecuteTime": {
     "end_time": "2025-06-10T08:40:30.098478Z",
     "start_time": "2025-06-10T08:40:22.340853Z"
    }
   },
   "cell_type": "code",
   "source": [
    "import gymnasium as gym\n",
    "import sys\n",
    "\n",
    "sys.path.insert(1, \"../\")\n",
    "\n",
    "import src.main.configs.global_configs as configs\n",
    "import src.main.configs.global_configs as configs\n",
    "from src.main.utility.utils import Helpers\n",
    "from src.main.rl_algorithms.train_evaluate_test.ppo_algorithm import PPOTrainAlgorithm\n",
    "from src.main.rl_algorithms.hyper_parameter_tuning.dqn_hyper_parameter_tuning import DQNHyperParameterTuning\n",
    "from src.main.utility.enum_types import RLAgorithmType\n",
    "from src.main.utility.chart_results import ChartResults\n"
   ],
   "id": "c3afe376fd99ebea",
   "outputs": [],
   "execution_count": 1
  },
  {
   "metadata": {},
   "cell_type": "markdown",
   "source": "#### Step 2: Instantiate the environment and the PPO agent",
   "id": "82b6a83773ef6b1f"
  },
  {
   "metadata": {
    "ExecuteTime": {
     "end_time": "2025-06-10T08:40:32.413160Z",
     "start_time": "2025-06-10T08:40:30.299407Z"
    }
   },
   "cell_type": "code",
   "source": [
    "pendulum_name = configs.PENDULUM_PROBLEM_NAME\n",
    "env = gym.make(pendulum_name, render_mode=configs.RENDER_MODE)\n",
    "rl_algorithm = RLAgorithmType.ppo\n",
    "ppo_agent = PPOTrainAlgorithm(env)\n"
   ],
   "id": "initial_id",
   "outputs": [
    {
     "name": "stderr",
     "output_type": "stream",
     "text": [
      "2025-06-10 09:40:30,306 - INFO - ppo_algorithm.py:__init__ - : Start of Reinforcement learning for environment: PENDULUM-V1 in C:\\Development\\Python\\AI\\ReinforcementLearning\\PyData2025-Presentation\\repo\\Hands-on-workshop-on-Reinforcement-Learning-Pydata2025\\demos\\pendulum\\src\\main\\rl_algorithms\\train_evaluate_test\\ppo_algorithm.py:48\n",
      "2025-06-10 09:40:30,306 - INFO - ppo_algorithm.py:__init__ - : This RL environment uses a PPO RL algorithm agent in C:\\Development\\Python\\AI\\ReinforcementLearning\\PyData2025-Presentation\\repo\\Hands-on-workshop-on-Reinforcement-Learning-Pydata2025\\demos\\pendulum\\src\\main\\rl_algorithms\\train_evaluate_test\\ppo_algorithm.py:49\n",
      "2025-06-10 09:40:30,310 - INFO - base_algorithms.py:hyper_parameters - : Training is using non-tuned hyperparameters... in C:\\Development\\Python\\AI\\ReinforcementLearning\\PyData2025-Presentation\\repo\\Hands-on-workshop-on-Reinforcement-Learning-Pydata2025\\demos\\pendulum\\src\\main\\rl_algorithms\\train_evaluate_test\\base_algorithms.py:119\n",
      "2025-06-10 09:40:30,310 - INFO - base_algorithms.py:hyper_parameters - : Hyperparameters are:\n",
      "{'batch_size': 64, 'gamma': 0.99, 'gae_lambda': 0.9, 'ent_coef': 0.0, 'sde_sample_freq': 4, 'max_grad_norm': 0.5, 'vf_coef': 0.5, 'learning_rate': 3e-05, 'use_sde': True, 'policy_kwargs': {'log_std_init': -2.7, 'ortho_init': False, 'activation_fn': <class 'torch.nn.modules.activation.ReLU'>, 'net_arch': {'pi': [256, 256], 'vf': [256, 256]}}} in C:\\Development\\Python\\AI\\ReinforcementLearning\\PyData2025-Presentation\\repo\\Hands-on-workshop-on-Reinforcement-Learning-Pydata2025\\demos\\pendulum\\src\\main\\rl_algorithms\\train_evaluate_test\\base_algorithms.py:120\n"
     ]
    }
   ],
   "execution_count": 2
  },
  {
   "metadata": {},
   "cell_type": "markdown",
   "source": "#### Step 3: Train the PPO RL agent",
   "id": "aa0c622ce8dfb35d"
  },
  {
   "metadata": {
    "ExecuteTime": {
     "end_time": "2025-06-10T08:45:34.860042Z",
     "start_time": "2025-06-10T08:40:32.511241Z"
    }
   },
   "cell_type": "code",
   "source": "ppo_agent.train()\n",
   "id": "21f5b0b03467c2f0",
   "outputs": [
    {
     "name": "stderr",
     "output_type": "stream",
     "text": [
      "2025-06-10 09:40:32,521 - INFO - save_on_base_reward_callback.py:_init_callback - : Saving trained RL model to ./logs/Pendulum-v1_ppo\\best_model in C:\\Development\\Python\\AI\\ReinforcementLearning\\PyData2025-Presentation\\repo\\Hands-on-workshop-on-Reinforcement-Learning-Pydata2025\\demos\\pendulum\\src\\main\\rl_algorithms\\train_evaluate_test\\save_on_base_reward_callback.py:45\n",
      "2025-06-10 09:40:33,105 - INFO - save_on_base_reward_callback.py:_on_step - : Saving new best model to ./logs/Pendulum-v1_ppo\\best_model.zip in C:\\Development\\Python\\AI\\ReinforcementLearning\\PyData2025-Presentation\\repo\\Hands-on-workshop-on-Reinforcement-Learning-Pydata2025\\demos\\pendulum\\src\\main\\rl_algorithms\\train_evaluate_test\\save_on_base_reward_callback.py:66\n"
     ]
    },
    {
     "name": "stdout",
     "output_type": "stream",
     "text": [
      "Num timesteps: 1000\n",
      "Best mean reward: -inf - Last mean reward per episode: -1213.68\n",
      "Num timesteps: 2000\n",
      "Best mean reward: -1213.68 - Last mean reward per episode: -1290.48\n",
      "Num timesteps: 3000\n",
      "Best mean reward: -1213.68 - Last mean reward per episode: -1240.86\n",
      "Num timesteps: 4000\n",
      "Best mean reward: -1213.68 - Last mean reward per episode: -1271.76\n",
      "Num timesteps: 5000\n",
      "Best mean reward: -1213.68 - Last mean reward per episode: -1290.90\n",
      "Num timesteps: 6000\n",
      "Best mean reward: -1213.68 - Last mean reward per episode: -1269.60\n",
      "Num timesteps: 7000\n",
      "Best mean reward: -1213.68 - Last mean reward per episode: -1275.35\n",
      "Num timesteps: 8000\n",
      "Best mean reward: -1213.68 - Last mean reward per episode: -1272.24\n",
      "Num timesteps: 9000\n",
      "Best mean reward: -1213.68 - Last mean reward per episode: -1259.91\n",
      "Num timesteps: 10000\n",
      "Best mean reward: -1213.68 - Last mean reward per episode: -1274.88\n",
      "Eval num_timesteps=10000, episode_reward=-1355.26 +/- 336.99\n",
      "Episode length: 200.00 +/- 0.00\n",
      "New best mean reward!\n",
      "Num timesteps: 11000\n",
      "Best mean reward: -1213.68 - Last mean reward per episode: -1310.40\n",
      "Num timesteps: 12000\n",
      "Best mean reward: -1213.68 - Last mean reward per episode: -1299.68\n",
      "Num timesteps: 13000\n",
      "Best mean reward: -1213.68 - Last mean reward per episode: -1301.31\n",
      "Num timesteps: 14000\n",
      "Best mean reward: -1213.68 - Last mean reward per episode: -1309.95\n",
      "Num timesteps: 15000\n",
      "Best mean reward: -1213.68 - Last mean reward per episode: -1301.51\n",
      "Num timesteps: 16000\n",
      "Best mean reward: -1213.68 - Last mean reward per episode: -1304.06\n",
      "Num timesteps: 17000\n",
      "Best mean reward: -1213.68 - Last mean reward per episode: -1305.57\n",
      "Num timesteps: 18000\n",
      "Best mean reward: -1213.68 - Last mean reward per episode: -1309.06\n",
      "Num timesteps: 19000\n",
      "Best mean reward: -1213.68 - Last mean reward per episode: -1314.36\n",
      "Num timesteps: 20000\n",
      "Best mean reward: -1213.68 - Last mean reward per episode: -1310.87\n",
      "Eval num_timesteps=20000, episode_reward=-1247.41 +/- 301.88\n",
      "Episode length: 200.00 +/- 0.00\n",
      "New best mean reward!\n",
      "Num timesteps: 21000\n",
      "Best mean reward: -1213.68 - Last mean reward per episode: -1303.67\n",
      "Num timesteps: 22000\n",
      "Best mean reward: -1213.68 - Last mean reward per episode: -1298.95\n",
      "Num timesteps: 23000\n",
      "Best mean reward: -1213.68 - Last mean reward per episode: -1287.75\n",
      "Num timesteps: 24000\n",
      "Best mean reward: -1213.68 - Last mean reward per episode: -1289.70\n",
      "Num timesteps: 25000\n",
      "Best mean reward: -1213.68 - Last mean reward per episode: -1296.15\n",
      "Num timesteps: 26000\n",
      "Best mean reward: -1213.68 - Last mean reward per episode: -1293.04\n",
      "Num timesteps: 27000\n",
      "Best mean reward: -1213.68 - Last mean reward per episode: -1305.76\n",
      "Num timesteps: 28000\n",
      "Best mean reward: -1213.68 - Last mean reward per episode: -1289.82\n",
      "Num timesteps: 29000\n",
      "Best mean reward: -1213.68 - Last mean reward per episode: -1282.76\n",
      "Num timesteps: 30000\n",
      "Best mean reward: -1213.68 - Last mean reward per episode: -1261.65\n",
      "Eval num_timesteps=30000, episode_reward=-1059.06 +/- 248.14\n",
      "Episode length: 200.00 +/- 0.00\n",
      "New best mean reward!\n",
      "Num timesteps: 31000\n",
      "Best mean reward: -1213.68 - Last mean reward per episode: -1253.81\n",
      "Num timesteps: 32000\n",
      "Best mean reward: -1213.68 - Last mean reward per episode: -1249.61\n",
      "Num timesteps: 33000\n",
      "Best mean reward: -1213.68 - Last mean reward per episode: -1246.75\n",
      "Num timesteps: 34000\n",
      "Best mean reward: -1213.68 - Last mean reward per episode: -1249.00\n",
      "Num timesteps: 35000\n",
      "Best mean reward: -1213.68 - Last mean reward per episode: -1249.60\n",
      "Num timesteps: 36000\n",
      "Best mean reward: -1213.68 - Last mean reward per episode: -1237.35\n",
      "Num timesteps: 37000\n",
      "Best mean reward: -1213.68 - Last mean reward per episode: -1236.73\n",
      "Num timesteps: 38000\n",
      "Best mean reward: -1213.68 - Last mean reward per episode: -1248.67\n",
      "Num timesteps: 39000\n",
      "Best mean reward: -1213.68 - Last mean reward per episode: -1253.57\n",
      "Num timesteps: 40000\n",
      "Best mean reward: -1213.68 - Last mean reward per episode: -1261.48\n",
      "Eval num_timesteps=40000, episode_reward=-1506.75 +/- 325.38\n",
      "Episode length: 200.00 +/- 0.00\n",
      "Num timesteps: 41000\n",
      "Best mean reward: -1213.68 - Last mean reward per episode: -1287.72\n",
      "Num timesteps: 42000\n",
      "Best mean reward: -1213.68 - Last mean reward per episode: -1284.91\n",
      "Num timesteps: 43000\n",
      "Best mean reward: -1213.68 - Last mean reward per episode: -1265.83\n",
      "Num timesteps: 44000\n",
      "Best mean reward: -1213.68 - Last mean reward per episode: -1267.43\n",
      "Num timesteps: 45000\n",
      "Best mean reward: -1213.68 - Last mean reward per episode: -1254.52\n",
      "Num timesteps: 46000\n",
      "Best mean reward: -1213.68 - Last mean reward per episode: -1254.25\n",
      "Num timesteps: 47000\n",
      "Best mean reward: -1213.68 - Last mean reward per episode: -1247.98\n",
      "Num timesteps: 48000\n",
      "Best mean reward: -1213.68 - Last mean reward per episode: -1237.88\n",
      "Num timesteps: 49000\n",
      "Best mean reward: -1213.68 - Last mean reward per episode: -1240.96\n",
      "Num timesteps: 50000\n",
      "Best mean reward: -1213.68 - Last mean reward per episode: -1229.53\n",
      "Eval num_timesteps=50000, episode_reward=-1143.30 +/- 271.03\n",
      "Episode length: 200.00 +/- 0.00\n",
      "Num timesteps: 51000\n",
      "Best mean reward: -1213.68 - Last mean reward per episode: -1217.42\n"
     ]
    },
    {
     "name": "stderr",
     "output_type": "stream",
     "text": [
      "2025-06-10 09:41:44,986 - INFO - save_on_base_reward_callback.py:_on_step - : Saving new best model to ./logs/Pendulum-v1_ppo\\best_model.zip in C:\\Development\\Python\\AI\\ReinforcementLearning\\PyData2025-Presentation\\repo\\Hands-on-workshop-on-Reinforcement-Learning-Pydata2025\\demos\\pendulum\\src\\main\\rl_algorithms\\train_evaluate_test\\save_on_base_reward_callback.py:66\n"
     ]
    },
    {
     "name": "stdout",
     "output_type": "stream",
     "text": [
      "Num timesteps: 52000\n",
      "Best mean reward: -1213.68 - Last mean reward per episode: -1206.24\n"
     ]
    },
    {
     "name": "stderr",
     "output_type": "stream",
     "text": [
      "2025-06-10 09:41:45,697 - INFO - save_on_base_reward_callback.py:_on_step - : Saving new best model to ./logs/Pendulum-v1_ppo\\best_model.zip in C:\\Development\\Python\\AI\\ReinforcementLearning\\PyData2025-Presentation\\repo\\Hands-on-workshop-on-Reinforcement-Learning-Pydata2025\\demos\\pendulum\\src\\main\\rl_algorithms\\train_evaluate_test\\save_on_base_reward_callback.py:66\n"
     ]
    },
    {
     "name": "stdout",
     "output_type": "stream",
     "text": [
      "Num timesteps: 53000\n",
      "Best mean reward: -1206.24 - Last mean reward per episode: -1194.52\n",
      "Num timesteps: 54000\n",
      "Best mean reward: -1194.52 - Last mean reward per episode: -1204.51\n",
      "Num timesteps: 55000\n",
      "Best mean reward: -1194.52 - Last mean reward per episode: -1195.59\n"
     ]
    },
    {
     "name": "stderr",
     "output_type": "stream",
     "text": [
      "2025-06-10 09:41:50,592 - INFO - save_on_base_reward_callback.py:_on_step - : Saving new best model to ./logs/Pendulum-v1_ppo\\best_model.zip in C:\\Development\\Python\\AI\\ReinforcementLearning\\PyData2025-Presentation\\repo\\Hands-on-workshop-on-Reinforcement-Learning-Pydata2025\\demos\\pendulum\\src\\main\\rl_algorithms\\train_evaluate_test\\save_on_base_reward_callback.py:66\n"
     ]
    },
    {
     "name": "stdout",
     "output_type": "stream",
     "text": [
      "Num timesteps: 56000\n",
      "Best mean reward: -1194.52 - Last mean reward per episode: -1186.59\n"
     ]
    },
    {
     "name": "stderr",
     "output_type": "stream",
     "text": [
      "2025-06-10 09:41:51,302 - INFO - save_on_base_reward_callback.py:_on_step - : Saving new best model to ./logs/Pendulum-v1_ppo\\best_model.zip in C:\\Development\\Python\\AI\\ReinforcementLearning\\PyData2025-Presentation\\repo\\Hands-on-workshop-on-Reinforcement-Learning-Pydata2025\\demos\\pendulum\\src\\main\\rl_algorithms\\train_evaluate_test\\save_on_base_reward_callback.py:66\n"
     ]
    },
    {
     "name": "stdout",
     "output_type": "stream",
     "text": [
      "Num timesteps: 57000\n",
      "Best mean reward: -1186.59 - Last mean reward per episode: -1180.51\n"
     ]
    },
    {
     "name": "stderr",
     "output_type": "stream",
     "text": [
      "2025-06-10 09:41:53,419 - INFO - save_on_base_reward_callback.py:_on_step - : Saving new best model to ./logs/Pendulum-v1_ppo\\best_model.zip in C:\\Development\\Python\\AI\\ReinforcementLearning\\PyData2025-Presentation\\repo\\Hands-on-workshop-on-Reinforcement-Learning-Pydata2025\\demos\\pendulum\\src\\main\\rl_algorithms\\train_evaluate_test\\save_on_base_reward_callback.py:66\n"
     ]
    },
    {
     "name": "stdout",
     "output_type": "stream",
     "text": [
      "Num timesteps: 58000\n",
      "Best mean reward: -1180.51 - Last mean reward per episode: -1167.61\n"
     ]
    },
    {
     "name": "stderr",
     "output_type": "stream",
     "text": [
      "2025-06-10 09:41:54,116 - INFO - save_on_base_reward_callback.py:_on_step - : Saving new best model to ./logs/Pendulum-v1_ppo\\best_model.zip in C:\\Development\\Python\\AI\\ReinforcementLearning\\PyData2025-Presentation\\repo\\Hands-on-workshop-on-Reinforcement-Learning-Pydata2025\\demos\\pendulum\\src\\main\\rl_algorithms\\train_evaluate_test\\save_on_base_reward_callback.py:66\n"
     ]
    },
    {
     "name": "stdout",
     "output_type": "stream",
     "text": [
      "Num timesteps: 59000\n",
      "Best mean reward: -1167.61 - Last mean reward per episode: -1154.58\n"
     ]
    },
    {
     "name": "stderr",
     "output_type": "stream",
     "text": [
      "2025-06-10 09:41:56,265 - INFO - save_on_base_reward_callback.py:_on_step - : Saving new best model to ./logs/Pendulum-v1_ppo\\best_model.zip in C:\\Development\\Python\\AI\\ReinforcementLearning\\PyData2025-Presentation\\repo\\Hands-on-workshop-on-Reinforcement-Learning-Pydata2025\\demos\\pendulum\\src\\main\\rl_algorithms\\train_evaluate_test\\save_on_base_reward_callback.py:66\n"
     ]
    },
    {
     "name": "stdout",
     "output_type": "stream",
     "text": [
      "Num timesteps: 60000\n",
      "Best mean reward: -1154.58 - Last mean reward per episode: -1140.07\n",
      "Eval num_timesteps=60000, episode_reward=-1239.52 +/- 271.19\n",
      "Episode length: 200.00 +/- 0.00\n",
      "Num timesteps: 61000\n",
      "Best mean reward: -1140.07 - Last mean reward per episode: -1153.18\n",
      "Num timesteps: 62000\n",
      "Best mean reward: -1140.07 - Last mean reward per episode: -1153.11\n",
      "Num timesteps: 63000\n",
      "Best mean reward: -1140.07 - Last mean reward per episode: -1150.76\n",
      "Num timesteps: 64000\n",
      "Best mean reward: -1140.07 - Last mean reward per episode: -1148.44\n",
      "Num timesteps: 65000\n",
      "Best mean reward: -1140.07 - Last mean reward per episode: -1153.34\n",
      "Num timesteps: 66000\n",
      "Best mean reward: -1140.07 - Last mean reward per episode: -1157.24\n",
      "Num timesteps: 67000\n",
      "Best mean reward: -1140.07 - Last mean reward per episode: -1153.23\n",
      "Num timesteps: 68000\n",
      "Best mean reward: -1140.07 - Last mean reward per episode: -1162.33\n",
      "Num timesteps: 69000\n",
      "Best mean reward: -1140.07 - Last mean reward per episode: -1157.60\n",
      "Num timesteps: 70000\n",
      "Best mean reward: -1140.07 - Last mean reward per episode: -1170.79\n",
      "Eval num_timesteps=70000, episode_reward=-1183.31 +/- 266.88\n",
      "Episode length: 200.00 +/- 0.00\n",
      "Num timesteps: 71000\n",
      "Best mean reward: -1140.07 - Last mean reward per episode: -1168.54\n",
      "Num timesteps: 72000\n",
      "Best mean reward: -1140.07 - Last mean reward per episode: -1154.69\n",
      "Num timesteps: 73000\n",
      "Best mean reward: -1140.07 - Last mean reward per episode: -1151.38\n",
      "Num timesteps: 74000\n",
      "Best mean reward: -1140.07 - Last mean reward per episode: -1143.80\n"
     ]
    },
    {
     "name": "stderr",
     "output_type": "stream",
     "text": [
      "2025-06-10 09:42:18,263 - INFO - save_on_base_reward_callback.py:_on_step - : Saving new best model to ./logs/Pendulum-v1_ppo\\best_model.zip in C:\\Development\\Python\\AI\\ReinforcementLearning\\PyData2025-Presentation\\repo\\Hands-on-workshop-on-Reinforcement-Learning-Pydata2025\\demos\\pendulum\\src\\main\\rl_algorithms\\train_evaluate_test\\save_on_base_reward_callback.py:66\n"
     ]
    },
    {
     "name": "stdout",
     "output_type": "stream",
     "text": [
      "Num timesteps: 75000\n",
      "Best mean reward: -1140.07 - Last mean reward per episode: -1139.99\n"
     ]
    },
    {
     "name": "stderr",
     "output_type": "stream",
     "text": [
      "2025-06-10 09:42:20,632 - INFO - save_on_base_reward_callback.py:_on_step - : Saving new best model to ./logs/Pendulum-v1_ppo\\best_model.zip in C:\\Development\\Python\\AI\\ReinforcementLearning\\PyData2025-Presentation\\repo\\Hands-on-workshop-on-Reinforcement-Learning-Pydata2025\\demos\\pendulum\\src\\main\\rl_algorithms\\train_evaluate_test\\save_on_base_reward_callback.py:66\n"
     ]
    },
    {
     "name": "stdout",
     "output_type": "stream",
     "text": [
      "Num timesteps: 76000\n",
      "Best mean reward: -1139.99 - Last mean reward per episode: -1137.55\n"
     ]
    },
    {
     "name": "stderr",
     "output_type": "stream",
     "text": [
      "2025-06-10 09:42:21,388 - INFO - save_on_base_reward_callback.py:_on_step - : Saving new best model to ./logs/Pendulum-v1_ppo\\best_model.zip in C:\\Development\\Python\\AI\\ReinforcementLearning\\PyData2025-Presentation\\repo\\Hands-on-workshop-on-Reinforcement-Learning-Pydata2025\\demos\\pendulum\\src\\main\\rl_algorithms\\train_evaluate_test\\save_on_base_reward_callback.py:66\n"
     ]
    },
    {
     "name": "stdout",
     "output_type": "stream",
     "text": [
      "Num timesteps: 77000\n",
      "Best mean reward: -1137.55 - Last mean reward per episode: -1133.77\n"
     ]
    },
    {
     "name": "stderr",
     "output_type": "stream",
     "text": [
      "2025-06-10 09:42:24,121 - INFO - save_on_base_reward_callback.py:_on_step - : Saving new best model to ./logs/Pendulum-v1_ppo\\best_model.zip in C:\\Development\\Python\\AI\\ReinforcementLearning\\PyData2025-Presentation\\repo\\Hands-on-workshop-on-Reinforcement-Learning-Pydata2025\\demos\\pendulum\\src\\main\\rl_algorithms\\train_evaluate_test\\save_on_base_reward_callback.py:66\n"
     ]
    },
    {
     "name": "stdout",
     "output_type": "stream",
     "text": [
      "Num timesteps: 78000\n",
      "Best mean reward: -1133.77 - Last mean reward per episode: -1125.44\n"
     ]
    },
    {
     "name": "stderr",
     "output_type": "stream",
     "text": [
      "2025-06-10 09:42:25,166 - INFO - save_on_base_reward_callback.py:_on_step - : Saving new best model to ./logs/Pendulum-v1_ppo\\best_model.zip in C:\\Development\\Python\\AI\\ReinforcementLearning\\PyData2025-Presentation\\repo\\Hands-on-workshop-on-Reinforcement-Learning-Pydata2025\\demos\\pendulum\\src\\main\\rl_algorithms\\train_evaluate_test\\save_on_base_reward_callback.py:66\n"
     ]
    },
    {
     "name": "stdout",
     "output_type": "stream",
     "text": [
      "Num timesteps: 79000\n",
      "Best mean reward: -1125.44 - Last mean reward per episode: -1109.31\n"
     ]
    },
    {
     "name": "stderr",
     "output_type": "stream",
     "text": [
      "2025-06-10 09:42:27,607 - INFO - save_on_base_reward_callback.py:_on_step - : Saving new best model to ./logs/Pendulum-v1_ppo\\best_model.zip in C:\\Development\\Python\\AI\\ReinforcementLearning\\PyData2025-Presentation\\repo\\Hands-on-workshop-on-Reinforcement-Learning-Pydata2025\\demos\\pendulum\\src\\main\\rl_algorithms\\train_evaluate_test\\save_on_base_reward_callback.py:66\n"
     ]
    },
    {
     "name": "stdout",
     "output_type": "stream",
     "text": [
      "Num timesteps: 80000\n",
      "Best mean reward: -1109.31 - Last mean reward per episode: -1095.70\n",
      "Eval num_timesteps=80000, episode_reward=-1048.70 +/- 193.42\n",
      "Episode length: 200.00 +/- 0.00\n",
      "New best mean reward!\n"
     ]
    },
    {
     "name": "stderr",
     "output_type": "stream",
     "text": [
      "2025-06-10 09:42:28,780 - INFO - save_on_base_reward_callback.py:_on_step - : Saving new best model to ./logs/Pendulum-v1_ppo\\best_model.zip in C:\\Development\\Python\\AI\\ReinforcementLearning\\PyData2025-Presentation\\repo\\Hands-on-workshop-on-Reinforcement-Learning-Pydata2025\\demos\\pendulum\\src\\main\\rl_algorithms\\train_evaluate_test\\save_on_base_reward_callback.py:66\n"
     ]
    },
    {
     "name": "stdout",
     "output_type": "stream",
     "text": [
      "Num timesteps: 81000\n",
      "Best mean reward: -1095.70 - Last mean reward per episode: -1088.96\n",
      "Num timesteps: 82000\n",
      "Best mean reward: -1088.96 - Last mean reward per episode: -1092.85\n",
      "Num timesteps: 83000\n",
      "Best mean reward: -1088.96 - Last mean reward per episode: -1092.68\n",
      "Num timesteps: 84000\n",
      "Best mean reward: -1088.96 - Last mean reward per episode: -1090.65\n",
      "Num timesteps: 85000\n",
      "Best mean reward: -1088.96 - Last mean reward per episode: -1094.22\n"
     ]
    },
    {
     "name": "stderr",
     "output_type": "stream",
     "text": [
      "2025-06-10 09:42:35,065 - INFO - save_on_base_reward_callback.py:_on_step - : Saving new best model to ./logs/Pendulum-v1_ppo\\best_model.zip in C:\\Development\\Python\\AI\\ReinforcementLearning\\PyData2025-Presentation\\repo\\Hands-on-workshop-on-Reinforcement-Learning-Pydata2025\\demos\\pendulum\\src\\main\\rl_algorithms\\train_evaluate_test\\save_on_base_reward_callback.py:66\n"
     ]
    },
    {
     "name": "stdout",
     "output_type": "stream",
     "text": [
      "Num timesteps: 86000\n",
      "Best mean reward: -1088.96 - Last mean reward per episode: -1083.83\n"
     ]
    },
    {
     "name": "stderr",
     "output_type": "stream",
     "text": [
      "2025-06-10 09:42:37,227 - INFO - save_on_base_reward_callback.py:_on_step - : Saving new best model to ./logs/Pendulum-v1_ppo\\best_model.zip in C:\\Development\\Python\\AI\\ReinforcementLearning\\PyData2025-Presentation\\repo\\Hands-on-workshop-on-Reinforcement-Learning-Pydata2025\\demos\\pendulum\\src\\main\\rl_algorithms\\train_evaluate_test\\save_on_base_reward_callback.py:66\n"
     ]
    },
    {
     "name": "stdout",
     "output_type": "stream",
     "text": [
      "Num timesteps: 87000\n",
      "Best mean reward: -1083.83 - Last mean reward per episode: -1078.69\n"
     ]
    },
    {
     "name": "stderr",
     "output_type": "stream",
     "text": [
      "2025-06-10 09:42:38,368 - INFO - save_on_base_reward_callback.py:_on_step - : Saving new best model to ./logs/Pendulum-v1_ppo\\best_model.zip in C:\\Development\\Python\\AI\\ReinforcementLearning\\PyData2025-Presentation\\repo\\Hands-on-workshop-on-Reinforcement-Learning-Pydata2025\\demos\\pendulum\\src\\main\\rl_algorithms\\train_evaluate_test\\save_on_base_reward_callback.py:66\n"
     ]
    },
    {
     "name": "stdout",
     "output_type": "stream",
     "text": [
      "Num timesteps: 88000\n",
      "Best mean reward: -1078.69 - Last mean reward per episode: -1063.53\n"
     ]
    },
    {
     "name": "stderr",
     "output_type": "stream",
     "text": [
      "2025-06-10 09:42:40,679 - INFO - save_on_base_reward_callback.py:_on_step - : Saving new best model to ./logs/Pendulum-v1_ppo\\best_model.zip in C:\\Development\\Python\\AI\\ReinforcementLearning\\PyData2025-Presentation\\repo\\Hands-on-workshop-on-Reinforcement-Learning-Pydata2025\\demos\\pendulum\\src\\main\\rl_algorithms\\train_evaluate_test\\save_on_base_reward_callback.py:66\n"
     ]
    },
    {
     "name": "stdout",
     "output_type": "stream",
     "text": [
      "Num timesteps: 89000\n",
      "Best mean reward: -1063.53 - Last mean reward per episode: -1057.60\n"
     ]
    },
    {
     "name": "stderr",
     "output_type": "stream",
     "text": [
      "2025-06-10 09:42:41,401 - INFO - save_on_base_reward_callback.py:_on_step - : Saving new best model to ./logs/Pendulum-v1_ppo\\best_model.zip in C:\\Development\\Python\\AI\\ReinforcementLearning\\PyData2025-Presentation\\repo\\Hands-on-workshop-on-Reinforcement-Learning-Pydata2025\\demos\\pendulum\\src\\main\\rl_algorithms\\train_evaluate_test\\save_on_base_reward_callback.py:66\n"
     ]
    },
    {
     "name": "stdout",
     "output_type": "stream",
     "text": [
      "Num timesteps: 90000\n",
      "Best mean reward: -1057.60 - Last mean reward per episode: -1051.99\n",
      "Eval num_timesteps=90000, episode_reward=-1054.35 +/- 57.83\n",
      "Episode length: 200.00 +/- 0.00\n"
     ]
    },
    {
     "name": "stderr",
     "output_type": "stream",
     "text": [
      "2025-06-10 09:42:44,099 - INFO - save_on_base_reward_callback.py:_on_step - : Saving new best model to ./logs/Pendulum-v1_ppo\\best_model.zip in C:\\Development\\Python\\AI\\ReinforcementLearning\\PyData2025-Presentation\\repo\\Hands-on-workshop-on-Reinforcement-Learning-Pydata2025\\demos\\pendulum\\src\\main\\rl_algorithms\\train_evaluate_test\\save_on_base_reward_callback.py:66\n"
     ]
    },
    {
     "name": "stdout",
     "output_type": "stream",
     "text": [
      "Num timesteps: 91000\n",
      "Best mean reward: -1051.99 - Last mean reward per episode: -1042.04\n"
     ]
    },
    {
     "name": "stderr",
     "output_type": "stream",
     "text": [
      "2025-06-10 09:42:44,788 - INFO - save_on_base_reward_callback.py:_on_step - : Saving new best model to ./logs/Pendulum-v1_ppo\\best_model.zip in C:\\Development\\Python\\AI\\ReinforcementLearning\\PyData2025-Presentation\\repo\\Hands-on-workshop-on-Reinforcement-Learning-Pydata2025\\demos\\pendulum\\src\\main\\rl_algorithms\\train_evaluate_test\\save_on_base_reward_callback.py:66\n"
     ]
    },
    {
     "name": "stdout",
     "output_type": "stream",
     "text": [
      "Num timesteps: 92000\n",
      "Best mean reward: -1042.04 - Last mean reward per episode: -1036.70\n"
     ]
    },
    {
     "name": "stderr",
     "output_type": "stream",
     "text": [
      "2025-06-10 09:42:47,371 - INFO - save_on_base_reward_callback.py:_on_step - : Saving new best model to ./logs/Pendulum-v1_ppo\\best_model.zip in C:\\Development\\Python\\AI\\ReinforcementLearning\\PyData2025-Presentation\\repo\\Hands-on-workshop-on-Reinforcement-Learning-Pydata2025\\demos\\pendulum\\src\\main\\rl_algorithms\\train_evaluate_test\\save_on_base_reward_callback.py:66\n"
     ]
    },
    {
     "name": "stdout",
     "output_type": "stream",
     "text": [
      "Num timesteps: 93000\n",
      "Best mean reward: -1036.70 - Last mean reward per episode: -1024.37\n",
      "Num timesteps: 94000\n",
      "Best mean reward: -1024.37 - Last mean reward per episode: -1024.56\n"
     ]
    },
    {
     "name": "stderr",
     "output_type": "stream",
     "text": [
      "2025-06-10 09:42:50,284 - INFO - save_on_base_reward_callback.py:_on_step - : Saving new best model to ./logs/Pendulum-v1_ppo\\best_model.zip in C:\\Development\\Python\\AI\\ReinforcementLearning\\PyData2025-Presentation\\repo\\Hands-on-workshop-on-Reinforcement-Learning-Pydata2025\\demos\\pendulum\\src\\main\\rl_algorithms\\train_evaluate_test\\save_on_base_reward_callback.py:66\n"
     ]
    },
    {
     "name": "stdout",
     "output_type": "stream",
     "text": [
      "Num timesteps: 95000\n",
      "Best mean reward: -1024.37 - Last mean reward per episode: -1012.39\n",
      "Num timesteps: 96000\n",
      "Best mean reward: -1012.39 - Last mean reward per episode: -1013.92\n",
      "Num timesteps: 97000\n",
      "Best mean reward: -1012.39 - Last mean reward per episode: -1016.21\n",
      "Num timesteps: 98000\n",
      "Best mean reward: -1012.39 - Last mean reward per episode: -1014.55\n"
     ]
    },
    {
     "name": "stderr",
     "output_type": "stream",
     "text": [
      "2025-06-10 09:42:56,059 - INFO - save_on_base_reward_callback.py:_on_step - : Saving new best model to ./logs/Pendulum-v1_ppo\\best_model.zip in C:\\Development\\Python\\AI\\ReinforcementLearning\\PyData2025-Presentation\\repo\\Hands-on-workshop-on-Reinforcement-Learning-Pydata2025\\demos\\pendulum\\src\\main\\rl_algorithms\\train_evaluate_test\\save_on_base_reward_callback.py:66\n"
     ]
    },
    {
     "name": "stdout",
     "output_type": "stream",
     "text": [
      "Num timesteps: 99000\n",
      "Best mean reward: -1012.39 - Last mean reward per episode: -1009.66\n"
     ]
    },
    {
     "name": "stderr",
     "output_type": "stream",
     "text": [
      "2025-06-10 09:42:56,803 - INFO - save_on_base_reward_callback.py:_on_step - : Saving new best model to ./logs/Pendulum-v1_ppo\\best_model.zip in C:\\Development\\Python\\AI\\ReinforcementLearning\\PyData2025-Presentation\\repo\\Hands-on-workshop-on-Reinforcement-Learning-Pydata2025\\demos\\pendulum\\src\\main\\rl_algorithms\\train_evaluate_test\\save_on_base_reward_callback.py:66\n"
     ]
    },
    {
     "name": "stdout",
     "output_type": "stream",
     "text": [
      "Num timesteps: 100000\n",
      "Best mean reward: -1009.66 - Last mean reward per episode: -999.61\n",
      "Eval num_timesteps=100000, episode_reward=-801.82 +/- 48.61\n",
      "Episode length: 200.00 +/- 0.00\n",
      "New best mean reward!\n"
     ]
    },
    {
     "name": "stderr",
     "output_type": "stream",
     "text": [
      "2025-06-10 09:42:59,525 - INFO - save_on_base_reward_callback.py:_on_step - : Saving new best model to ./logs/Pendulum-v1_ppo\\best_model.zip in C:\\Development\\Python\\AI\\ReinforcementLearning\\PyData2025-Presentation\\repo\\Hands-on-workshop-on-Reinforcement-Learning-Pydata2025\\demos\\pendulum\\src\\main\\rl_algorithms\\train_evaluate_test\\save_on_base_reward_callback.py:66\n"
     ]
    },
    {
     "name": "stdout",
     "output_type": "stream",
     "text": [
      "Num timesteps: 101000\n",
      "Best mean reward: -999.61 - Last mean reward per episode: -972.70\n"
     ]
    },
    {
     "name": "stderr",
     "output_type": "stream",
     "text": [
      "2025-06-10 09:43:00,247 - INFO - save_on_base_reward_callback.py:_on_step - : Saving new best model to ./logs/Pendulum-v1_ppo\\best_model.zip in C:\\Development\\Python\\AI\\ReinforcementLearning\\PyData2025-Presentation\\repo\\Hands-on-workshop-on-Reinforcement-Learning-Pydata2025\\demos\\pendulum\\src\\main\\rl_algorithms\\train_evaluate_test\\save_on_base_reward_callback.py:66\n"
     ]
    },
    {
     "name": "stdout",
     "output_type": "stream",
     "text": [
      "Num timesteps: 102000\n",
      "Best mean reward: -972.70 - Last mean reward per episode: -967.45\n"
     ]
    },
    {
     "name": "stderr",
     "output_type": "stream",
     "text": [
      "2025-06-10 09:43:02,528 - INFO - save_on_base_reward_callback.py:_on_step - : Saving new best model to ./logs/Pendulum-v1_ppo\\best_model.zip in C:\\Development\\Python\\AI\\ReinforcementLearning\\PyData2025-Presentation\\repo\\Hands-on-workshop-on-Reinforcement-Learning-Pydata2025\\demos\\pendulum\\src\\main\\rl_algorithms\\train_evaluate_test\\save_on_base_reward_callback.py:66\n"
     ]
    },
    {
     "name": "stdout",
     "output_type": "stream",
     "text": [
      "Num timesteps: 103000\n",
      "Best mean reward: -967.45 - Last mean reward per episode: -958.70\n"
     ]
    },
    {
     "name": "stderr",
     "output_type": "stream",
     "text": [
      "2025-06-10 09:43:03,250 - INFO - save_on_base_reward_callback.py:_on_step - : Saving new best model to ./logs/Pendulum-v1_ppo\\best_model.zip in C:\\Development\\Python\\AI\\ReinforcementLearning\\PyData2025-Presentation\\repo\\Hands-on-workshop-on-Reinforcement-Learning-Pydata2025\\demos\\pendulum\\src\\main\\rl_algorithms\\train_evaluate_test\\save_on_base_reward_callback.py:66\n"
     ]
    },
    {
     "name": "stdout",
     "output_type": "stream",
     "text": [
      "Num timesteps: 104000\n",
      "Best mean reward: -958.70 - Last mean reward per episode: -950.62\n",
      "Num timesteps: 105000\n",
      "Best mean reward: -950.62 - Last mean reward per episode: -952.84\n"
     ]
    },
    {
     "name": "stderr",
     "output_type": "stream",
     "text": [
      "2025-06-10 09:43:06,424 - INFO - save_on_base_reward_callback.py:_on_step - : Saving new best model to ./logs/Pendulum-v1_ppo\\best_model.zip in C:\\Development\\Python\\AI\\ReinforcementLearning\\PyData2025-Presentation\\repo\\Hands-on-workshop-on-Reinforcement-Learning-Pydata2025\\demos\\pendulum\\src\\main\\rl_algorithms\\train_evaluate_test\\save_on_base_reward_callback.py:66\n"
     ]
    },
    {
     "name": "stdout",
     "output_type": "stream",
     "text": [
      "Num timesteps: 106000\n",
      "Best mean reward: -950.62 - Last mean reward per episode: -944.30\n"
     ]
    },
    {
     "name": "stderr",
     "output_type": "stream",
     "text": [
      "2025-06-10 09:43:08,744 - INFO - save_on_base_reward_callback.py:_on_step - : Saving new best model to ./logs/Pendulum-v1_ppo\\best_model.zip in C:\\Development\\Python\\AI\\ReinforcementLearning\\PyData2025-Presentation\\repo\\Hands-on-workshop-on-Reinforcement-Learning-Pydata2025\\demos\\pendulum\\src\\main\\rl_algorithms\\train_evaluate_test\\save_on_base_reward_callback.py:66\n"
     ]
    },
    {
     "name": "stdout",
     "output_type": "stream",
     "text": [
      "Num timesteps: 107000\n",
      "Best mean reward: -944.30 - Last mean reward per episode: -939.48\n"
     ]
    },
    {
     "name": "stderr",
     "output_type": "stream",
     "text": [
      "2025-06-10 09:43:09,489 - INFO - save_on_base_reward_callback.py:_on_step - : Saving new best model to ./logs/Pendulum-v1_ppo\\best_model.zip in C:\\Development\\Python\\AI\\ReinforcementLearning\\PyData2025-Presentation\\repo\\Hands-on-workshop-on-Reinforcement-Learning-Pydata2025\\demos\\pendulum\\src\\main\\rl_algorithms\\train_evaluate_test\\save_on_base_reward_callback.py:66\n"
     ]
    },
    {
     "name": "stdout",
     "output_type": "stream",
     "text": [
      "Num timesteps: 108000\n",
      "Best mean reward: -939.48 - Last mean reward per episode: -937.92\n"
     ]
    },
    {
     "name": "stderr",
     "output_type": "stream",
     "text": [
      "2025-06-10 09:43:12,560 - INFO - save_on_base_reward_callback.py:_on_step - : Saving new best model to ./logs/Pendulum-v1_ppo\\best_model.zip in C:\\Development\\Python\\AI\\ReinforcementLearning\\PyData2025-Presentation\\repo\\Hands-on-workshop-on-Reinforcement-Learning-Pydata2025\\demos\\pendulum\\src\\main\\rl_algorithms\\train_evaluate_test\\save_on_base_reward_callback.py:66\n"
     ]
    },
    {
     "name": "stdout",
     "output_type": "stream",
     "text": [
      "Num timesteps: 109000\n",
      "Best mean reward: -937.92 - Last mean reward per episode: -928.27\n",
      "Num timesteps: 110000\n",
      "Best mean reward: -928.27 - Last mean reward per episode: -928.31\n",
      "Eval num_timesteps=110000, episode_reward=-752.86 +/- 117.09\n",
      "Episode length: 200.00 +/- 0.00\n",
      "New best mean reward!\n"
     ]
    },
    {
     "name": "stderr",
     "output_type": "stream",
     "text": [
      "2025-06-10 09:43:16,041 - INFO - save_on_base_reward_callback.py:_on_step - : Saving new best model to ./logs/Pendulum-v1_ppo\\best_model.zip in C:\\Development\\Python\\AI\\ReinforcementLearning\\PyData2025-Presentation\\repo\\Hands-on-workshop-on-Reinforcement-Learning-Pydata2025\\demos\\pendulum\\src\\main\\rl_algorithms\\train_evaluate_test\\save_on_base_reward_callback.py:66\n"
     ]
    },
    {
     "name": "stdout",
     "output_type": "stream",
     "text": [
      "Num timesteps: 111000\n",
      "Best mean reward: -928.27 - Last mean reward per episode: -916.67\n"
     ]
    },
    {
     "name": "stderr",
     "output_type": "stream",
     "text": [
      "2025-06-10 09:43:16,806 - INFO - save_on_base_reward_callback.py:_on_step - : Saving new best model to ./logs/Pendulum-v1_ppo\\best_model.zip in C:\\Development\\Python\\AI\\ReinforcementLearning\\PyData2025-Presentation\\repo\\Hands-on-workshop-on-Reinforcement-Learning-Pydata2025\\demos\\pendulum\\src\\main\\rl_algorithms\\train_evaluate_test\\save_on_base_reward_callback.py:66\n"
     ]
    },
    {
     "name": "stdout",
     "output_type": "stream",
     "text": [
      "Num timesteps: 112000\n",
      "Best mean reward: -916.67 - Last mean reward per episode: -914.64\n"
     ]
    },
    {
     "name": "stderr",
     "output_type": "stream",
     "text": [
      "2025-06-10 09:43:18,932 - INFO - save_on_base_reward_callback.py:_on_step - : Saving new best model to ./logs/Pendulum-v1_ppo\\best_model.zip in C:\\Development\\Python\\AI\\ReinforcementLearning\\PyData2025-Presentation\\repo\\Hands-on-workshop-on-Reinforcement-Learning-Pydata2025\\demos\\pendulum\\src\\main\\rl_algorithms\\train_evaluate_test\\save_on_base_reward_callback.py:66\n"
     ]
    },
    {
     "name": "stdout",
     "output_type": "stream",
     "text": [
      "Num timesteps: 113000\n",
      "Best mean reward: -914.64 - Last mean reward per episode: -912.36\n"
     ]
    },
    {
     "name": "stderr",
     "output_type": "stream",
     "text": [
      "2025-06-10 09:43:19,672 - INFO - save_on_base_reward_callback.py:_on_step - : Saving new best model to ./logs/Pendulum-v1_ppo\\best_model.zip in C:\\Development\\Python\\AI\\ReinforcementLearning\\PyData2025-Presentation\\repo\\Hands-on-workshop-on-Reinforcement-Learning-Pydata2025\\demos\\pendulum\\src\\main\\rl_algorithms\\train_evaluate_test\\save_on_base_reward_callback.py:66\n"
     ]
    },
    {
     "name": "stdout",
     "output_type": "stream",
     "text": [
      "Num timesteps: 114000\n",
      "Best mean reward: -912.36 - Last mean reward per episode: -905.31\n"
     ]
    },
    {
     "name": "stderr",
     "output_type": "stream",
     "text": [
      "2025-06-10 09:43:21,704 - INFO - save_on_base_reward_callback.py:_on_step - : Saving new best model to ./logs/Pendulum-v1_ppo\\best_model.zip in C:\\Development\\Python\\AI\\ReinforcementLearning\\PyData2025-Presentation\\repo\\Hands-on-workshop-on-Reinforcement-Learning-Pydata2025\\demos\\pendulum\\src\\main\\rl_algorithms\\train_evaluate_test\\save_on_base_reward_callback.py:66\n"
     ]
    },
    {
     "name": "stdout",
     "output_type": "stream",
     "text": [
      "Num timesteps: 115000\n",
      "Best mean reward: -905.31 - Last mean reward per episode: -901.14\n"
     ]
    },
    {
     "name": "stderr",
     "output_type": "stream",
     "text": [
      "2025-06-10 09:43:22,437 - INFO - save_on_base_reward_callback.py:_on_step - : Saving new best model to ./logs/Pendulum-v1_ppo\\best_model.zip in C:\\Development\\Python\\AI\\ReinforcementLearning\\PyData2025-Presentation\\repo\\Hands-on-workshop-on-Reinforcement-Learning-Pydata2025\\demos\\pendulum\\src\\main\\rl_algorithms\\train_evaluate_test\\save_on_base_reward_callback.py:66\n"
     ]
    },
    {
     "name": "stdout",
     "output_type": "stream",
     "text": [
      "Num timesteps: 116000\n",
      "Best mean reward: -901.14 - Last mean reward per episode: -901.09\n"
     ]
    },
    {
     "name": "stderr",
     "output_type": "stream",
     "text": [
      "2025-06-10 09:43:24,549 - INFO - save_on_base_reward_callback.py:_on_step - : Saving new best model to ./logs/Pendulum-v1_ppo\\best_model.zip in C:\\Development\\Python\\AI\\ReinforcementLearning\\PyData2025-Presentation\\repo\\Hands-on-workshop-on-Reinforcement-Learning-Pydata2025\\demos\\pendulum\\src\\main\\rl_algorithms\\train_evaluate_test\\save_on_base_reward_callback.py:66\n"
     ]
    },
    {
     "name": "stdout",
     "output_type": "stream",
     "text": [
      "Num timesteps: 117000\n",
      "Best mean reward: -901.09 - Last mean reward per episode: -899.29\n"
     ]
    },
    {
     "name": "stderr",
     "output_type": "stream",
     "text": [
      "2025-06-10 09:43:25,247 - INFO - save_on_base_reward_callback.py:_on_step - : Saving new best model to ./logs/Pendulum-v1_ppo\\best_model.zip in C:\\Development\\Python\\AI\\ReinforcementLearning\\PyData2025-Presentation\\repo\\Hands-on-workshop-on-Reinforcement-Learning-Pydata2025\\demos\\pendulum\\src\\main\\rl_algorithms\\train_evaluate_test\\save_on_base_reward_callback.py:66\n"
     ]
    },
    {
     "name": "stdout",
     "output_type": "stream",
     "text": [
      "Num timesteps: 118000\n",
      "Best mean reward: -899.29 - Last mean reward per episode: -893.84\n",
      "Num timesteps: 119000\n",
      "Best mean reward: -893.84 - Last mean reward per episode: -897.24\n"
     ]
    },
    {
     "name": "stderr",
     "output_type": "stream",
     "text": [
      "2025-06-10 09:43:28,058 - INFO - save_on_base_reward_callback.py:_on_step - : Saving new best model to ./logs/Pendulum-v1_ppo\\best_model.zip in C:\\Development\\Python\\AI\\ReinforcementLearning\\PyData2025-Presentation\\repo\\Hands-on-workshop-on-Reinforcement-Learning-Pydata2025\\demos\\pendulum\\src\\main\\rl_algorithms\\train_evaluate_test\\save_on_base_reward_callback.py:66\n"
     ]
    },
    {
     "name": "stdout",
     "output_type": "stream",
     "text": [
      "Num timesteps: 120000\n",
      "Best mean reward: -893.84 - Last mean reward per episode: -893.71\n",
      "Eval num_timesteps=120000, episode_reward=-769.78 +/- 86.64\n",
      "Episode length: 200.00 +/- 0.00\n"
     ]
    },
    {
     "name": "stderr",
     "output_type": "stream",
     "text": [
      "2025-06-10 09:43:30,708 - INFO - save_on_base_reward_callback.py:_on_step - : Saving new best model to ./logs/Pendulum-v1_ppo\\best_model.zip in C:\\Development\\Python\\AI\\ReinforcementLearning\\PyData2025-Presentation\\repo\\Hands-on-workshop-on-Reinforcement-Learning-Pydata2025\\demos\\pendulum\\src\\main\\rl_algorithms\\train_evaluate_test\\save_on_base_reward_callback.py:66\n"
     ]
    },
    {
     "name": "stdout",
     "output_type": "stream",
     "text": [
      "Num timesteps: 121000\n",
      "Best mean reward: -893.71 - Last mean reward per episode: -878.08\n",
      "Num timesteps: 122000\n",
      "Best mean reward: -878.08 - Last mean reward per episode: -882.78\n"
     ]
    },
    {
     "name": "stderr",
     "output_type": "stream",
     "text": [
      "2025-06-10 09:43:33,792 - INFO - save_on_base_reward_callback.py:_on_step - : Saving new best model to ./logs/Pendulum-v1_ppo\\best_model.zip in C:\\Development\\Python\\AI\\ReinforcementLearning\\PyData2025-Presentation\\repo\\Hands-on-workshop-on-Reinforcement-Learning-Pydata2025\\demos\\pendulum\\src\\main\\rl_algorithms\\train_evaluate_test\\save_on_base_reward_callback.py:66\n"
     ]
    },
    {
     "name": "stdout",
     "output_type": "stream",
     "text": [
      "Num timesteps: 123000\n",
      "Best mean reward: -878.08 - Last mean reward per episode: -871.48\n",
      "Num timesteps: 124000\n",
      "Best mean reward: -871.48 - Last mean reward per episode: -875.17\n"
     ]
    },
    {
     "name": "stderr",
     "output_type": "stream",
     "text": [
      "2025-06-10 09:43:36,678 - INFO - save_on_base_reward_callback.py:_on_step - : Saving new best model to ./logs/Pendulum-v1_ppo\\best_model.zip in C:\\Development\\Python\\AI\\ReinforcementLearning\\PyData2025-Presentation\\repo\\Hands-on-workshop-on-Reinforcement-Learning-Pydata2025\\demos\\pendulum\\src\\main\\rl_algorithms\\train_evaluate_test\\save_on_base_reward_callback.py:66\n"
     ]
    },
    {
     "name": "stdout",
     "output_type": "stream",
     "text": [
      "Num timesteps: 125000\n",
      "Best mean reward: -871.48 - Last mean reward per episode: -870.15\n"
     ]
    },
    {
     "name": "stderr",
     "output_type": "stream",
     "text": [
      "2025-06-10 09:43:37,415 - INFO - save_on_base_reward_callback.py:_on_step - : Saving new best model to ./logs/Pendulum-v1_ppo\\best_model.zip in C:\\Development\\Python\\AI\\ReinforcementLearning\\PyData2025-Presentation\\repo\\Hands-on-workshop-on-Reinforcement-Learning-Pydata2025\\demos\\pendulum\\src\\main\\rl_algorithms\\train_evaluate_test\\save_on_base_reward_callback.py:66\n"
     ]
    },
    {
     "name": "stdout",
     "output_type": "stream",
     "text": [
      "Num timesteps: 126000\n",
      "Best mean reward: -870.15 - Last mean reward per episode: -865.40\n",
      "Num timesteps: 127000\n",
      "Best mean reward: -865.40 - Last mean reward per episode: -868.62\n"
     ]
    },
    {
     "name": "stderr",
     "output_type": "stream",
     "text": [
      "2025-06-10 09:43:40,439 - INFO - save_on_base_reward_callback.py:_on_step - : Saving new best model to ./logs/Pendulum-v1_ppo\\best_model.zip in C:\\Development\\Python\\AI\\ReinforcementLearning\\PyData2025-Presentation\\repo\\Hands-on-workshop-on-Reinforcement-Learning-Pydata2025\\demos\\pendulum\\src\\main\\rl_algorithms\\train_evaluate_test\\save_on_base_reward_callback.py:66\n"
     ]
    },
    {
     "name": "stdout",
     "output_type": "stream",
     "text": [
      "Num timesteps: 128000\n",
      "Best mean reward: -865.40 - Last mean reward per episode: -860.83\n",
      "Num timesteps: 129000\n",
      "Best mean reward: -860.83 - Last mean reward per episode: -867.77\n",
      "Num timesteps: 130000\n",
      "Best mean reward: -860.83 - Last mean reward per episode: -866.35\n",
      "Eval num_timesteps=130000, episode_reward=-709.40 +/- 46.66\n",
      "Episode length: 200.00 +/- 0.00\n",
      "New best mean reward!\n"
     ]
    },
    {
     "name": "stderr",
     "output_type": "stream",
     "text": [
      "2025-06-10 09:43:44,453 - INFO - save_on_base_reward_callback.py:_on_step - : Saving new best model to ./logs/Pendulum-v1_ppo\\best_model.zip in C:\\Development\\Python\\AI\\ReinforcementLearning\\PyData2025-Presentation\\repo\\Hands-on-workshop-on-Reinforcement-Learning-Pydata2025\\demos\\pendulum\\src\\main\\rl_algorithms\\train_evaluate_test\\save_on_base_reward_callback.py:66\n"
     ]
    },
    {
     "name": "stdout",
     "output_type": "stream",
     "text": [
      "Num timesteps: 131000\n",
      "Best mean reward: -860.83 - Last mean reward per episode: -855.17\n"
     ]
    },
    {
     "name": "stderr",
     "output_type": "stream",
     "text": [
      "2025-06-10 09:43:46,645 - INFO - save_on_base_reward_callback.py:_on_step - : Saving new best model to ./logs/Pendulum-v1_ppo\\best_model.zip in C:\\Development\\Python\\AI\\ReinforcementLearning\\PyData2025-Presentation\\repo\\Hands-on-workshop-on-Reinforcement-Learning-Pydata2025\\demos\\pendulum\\src\\main\\rl_algorithms\\train_evaluate_test\\save_on_base_reward_callback.py:66\n"
     ]
    },
    {
     "name": "stdout",
     "output_type": "stream",
     "text": [
      "Num timesteps: 132000\n",
      "Best mean reward: -855.17 - Last mean reward per episode: -852.32\n"
     ]
    },
    {
     "name": "stderr",
     "output_type": "stream",
     "text": [
      "2025-06-10 09:43:47,402 - INFO - save_on_base_reward_callback.py:_on_step - : Saving new best model to ./logs/Pendulum-v1_ppo\\best_model.zip in C:\\Development\\Python\\AI\\ReinforcementLearning\\PyData2025-Presentation\\repo\\Hands-on-workshop-on-Reinforcement-Learning-Pydata2025\\demos\\pendulum\\src\\main\\rl_algorithms\\train_evaluate_test\\save_on_base_reward_callback.py:66\n"
     ]
    },
    {
     "name": "stdout",
     "output_type": "stream",
     "text": [
      "Num timesteps: 133000\n",
      "Best mean reward: -852.32 - Last mean reward per episode: -849.56\n"
     ]
    },
    {
     "name": "stderr",
     "output_type": "stream",
     "text": [
      "2025-06-10 09:43:50,143 - INFO - save_on_base_reward_callback.py:_on_step - : Saving new best model to ./logs/Pendulum-v1_ppo\\best_model.zip in C:\\Development\\Python\\AI\\ReinforcementLearning\\PyData2025-Presentation\\repo\\Hands-on-workshop-on-Reinforcement-Learning-Pydata2025\\demos\\pendulum\\src\\main\\rl_algorithms\\train_evaluate_test\\save_on_base_reward_callback.py:66\n"
     ]
    },
    {
     "name": "stdout",
     "output_type": "stream",
     "text": [
      "Num timesteps: 134000\n",
      "Best mean reward: -849.56 - Last mean reward per episode: -843.48\n"
     ]
    },
    {
     "name": "stderr",
     "output_type": "stream",
     "text": [
      "2025-06-10 09:43:51,082 - INFO - save_on_base_reward_callback.py:_on_step - : Saving new best model to ./logs/Pendulum-v1_ppo\\best_model.zip in C:\\Development\\Python\\AI\\ReinforcementLearning\\PyData2025-Presentation\\repo\\Hands-on-workshop-on-Reinforcement-Learning-Pydata2025\\demos\\pendulum\\src\\main\\rl_algorithms\\train_evaluate_test\\save_on_base_reward_callback.py:66\n"
     ]
    },
    {
     "name": "stdout",
     "output_type": "stream",
     "text": [
      "Num timesteps: 135000\n",
      "Best mean reward: -843.48 - Last mean reward per episode: -840.42\n"
     ]
    },
    {
     "name": "stderr",
     "output_type": "stream",
     "text": [
      "2025-06-10 09:43:53,387 - INFO - save_on_base_reward_callback.py:_on_step - : Saving new best model to ./logs/Pendulum-v1_ppo\\best_model.zip in C:\\Development\\Python\\AI\\ReinforcementLearning\\PyData2025-Presentation\\repo\\Hands-on-workshop-on-Reinforcement-Learning-Pydata2025\\demos\\pendulum\\src\\main\\rl_algorithms\\train_evaluate_test\\save_on_base_reward_callback.py:66\n"
     ]
    },
    {
     "name": "stdout",
     "output_type": "stream",
     "text": [
      "Num timesteps: 136000\n",
      "Best mean reward: -840.42 - Last mean reward per episode: -839.57\n"
     ]
    },
    {
     "name": "stderr",
     "output_type": "stream",
     "text": [
      "2025-06-10 09:43:54,088 - INFO - save_on_base_reward_callback.py:_on_step - : Saving new best model to ./logs/Pendulum-v1_ppo\\best_model.zip in C:\\Development\\Python\\AI\\ReinforcementLearning\\PyData2025-Presentation\\repo\\Hands-on-workshop-on-Reinforcement-Learning-Pydata2025\\demos\\pendulum\\src\\main\\rl_algorithms\\train_evaluate_test\\save_on_base_reward_callback.py:66\n"
     ]
    },
    {
     "name": "stdout",
     "output_type": "stream",
     "text": [
      "Num timesteps: 137000\n",
      "Best mean reward: -839.57 - Last mean reward per episode: -833.60\n"
     ]
    },
    {
     "name": "stderr",
     "output_type": "stream",
     "text": [
      "2025-06-10 09:43:56,386 - INFO - save_on_base_reward_callback.py:_on_step - : Saving new best model to ./logs/Pendulum-v1_ppo\\best_model.zip in C:\\Development\\Python\\AI\\ReinforcementLearning\\PyData2025-Presentation\\repo\\Hands-on-workshop-on-Reinforcement-Learning-Pydata2025\\demos\\pendulum\\src\\main\\rl_algorithms\\train_evaluate_test\\save_on_base_reward_callback.py:66\n"
     ]
    },
    {
     "name": "stdout",
     "output_type": "stream",
     "text": [
      "Num timesteps: 138000\n",
      "Best mean reward: -833.60 - Last mean reward per episode: -827.43\n",
      "Num timesteps: 139000\n",
      "Best mean reward: -827.43 - Last mean reward per episode: -830.75\n",
      "Num timesteps: 140000\n",
      "Best mean reward: -827.43 - Last mean reward per episode: -831.86\n",
      "Eval num_timesteps=140000, episode_reward=-717.44 +/- 73.96\n",
      "Episode length: 200.00 +/- 0.00\n"
     ]
    },
    {
     "name": "stderr",
     "output_type": "stream",
     "text": [
      "2025-06-10 09:44:00,515 - INFO - save_on_base_reward_callback.py:_on_step - : Saving new best model to ./logs/Pendulum-v1_ppo\\best_model.zip in C:\\Development\\Python\\AI\\ReinforcementLearning\\PyData2025-Presentation\\repo\\Hands-on-workshop-on-Reinforcement-Learning-Pydata2025\\demos\\pendulum\\src\\main\\rl_algorithms\\train_evaluate_test\\save_on_base_reward_callback.py:66\n"
     ]
    },
    {
     "name": "stdout",
     "output_type": "stream",
     "text": [
      "Num timesteps: 141000\n",
      "Best mean reward: -827.43 - Last mean reward per episode: -821.82\n"
     ]
    },
    {
     "name": "stderr",
     "output_type": "stream",
     "text": [
      "2025-06-10 09:44:02,781 - INFO - save_on_base_reward_callback.py:_on_step - : Saving new best model to ./logs/Pendulum-v1_ppo\\best_model.zip in C:\\Development\\Python\\AI\\ReinforcementLearning\\PyData2025-Presentation\\repo\\Hands-on-workshop-on-Reinforcement-Learning-Pydata2025\\demos\\pendulum\\src\\main\\rl_algorithms\\train_evaluate_test\\save_on_base_reward_callback.py:66\n"
     ]
    },
    {
     "name": "stdout",
     "output_type": "stream",
     "text": [
      "Num timesteps: 142000\n",
      "Best mean reward: -821.82 - Last mean reward per episode: -814.90\n"
     ]
    },
    {
     "name": "stderr",
     "output_type": "stream",
     "text": [
      "2025-06-10 09:44:03,532 - INFO - save_on_base_reward_callback.py:_on_step - : Saving new best model to ./logs/Pendulum-v1_ppo\\best_model.zip in C:\\Development\\Python\\AI\\ReinforcementLearning\\PyData2025-Presentation\\repo\\Hands-on-workshop-on-Reinforcement-Learning-Pydata2025\\demos\\pendulum\\src\\main\\rl_algorithms\\train_evaluate_test\\save_on_base_reward_callback.py:66\n"
     ]
    },
    {
     "name": "stdout",
     "output_type": "stream",
     "text": [
      "Num timesteps: 143000\n",
      "Best mean reward: -814.90 - Last mean reward per episode: -813.53\n",
      "Num timesteps: 144000\n",
      "Best mean reward: -813.53 - Last mean reward per episode: -815.93\n"
     ]
    },
    {
     "name": "stderr",
     "output_type": "stream",
     "text": [
      "2025-06-10 09:44:06,509 - INFO - save_on_base_reward_callback.py:_on_step - : Saving new best model to ./logs/Pendulum-v1_ppo\\best_model.zip in C:\\Development\\Python\\AI\\ReinforcementLearning\\PyData2025-Presentation\\repo\\Hands-on-workshop-on-Reinforcement-Learning-Pydata2025\\demos\\pendulum\\src\\main\\rl_algorithms\\train_evaluate_test\\save_on_base_reward_callback.py:66\n"
     ]
    },
    {
     "name": "stdout",
     "output_type": "stream",
     "text": [
      "Num timesteps: 145000\n",
      "Best mean reward: -813.53 - Last mean reward per episode: -810.86\n",
      "Num timesteps: 146000\n",
      "Best mean reward: -810.86 - Last mean reward per episode: -812.98\n"
     ]
    },
    {
     "name": "stderr",
     "output_type": "stream",
     "text": [
      "2025-06-10 09:44:09,415 - INFO - save_on_base_reward_callback.py:_on_step - : Saving new best model to ./logs/Pendulum-v1_ppo\\best_model.zip in C:\\Development\\Python\\AI\\ReinforcementLearning\\PyData2025-Presentation\\repo\\Hands-on-workshop-on-Reinforcement-Learning-Pydata2025\\demos\\pendulum\\src\\main\\rl_algorithms\\train_evaluate_test\\save_on_base_reward_callback.py:66\n"
     ]
    },
    {
     "name": "stdout",
     "output_type": "stream",
     "text": [
      "Num timesteps: 147000\n",
      "Best mean reward: -810.86 - Last mean reward per episode: -808.35\n"
     ]
    },
    {
     "name": "stderr",
     "output_type": "stream",
     "text": [
      "2025-06-10 09:44:11,828 - INFO - save_on_base_reward_callback.py:_on_step - : Saving new best model to ./logs/Pendulum-v1_ppo\\best_model.zip in C:\\Development\\Python\\AI\\ReinforcementLearning\\PyData2025-Presentation\\repo\\Hands-on-workshop-on-Reinforcement-Learning-Pydata2025\\demos\\pendulum\\src\\main\\rl_algorithms\\train_evaluate_test\\save_on_base_reward_callback.py:66\n"
     ]
    },
    {
     "name": "stdout",
     "output_type": "stream",
     "text": [
      "Num timesteps: 148000\n",
      "Best mean reward: -808.35 - Last mean reward per episode: -806.08\n",
      "Num timesteps: 149000\n",
      "Best mean reward: -806.08 - Last mean reward per episode: -811.27\n",
      "Num timesteps: 150000\n",
      "Best mean reward: -806.08 - Last mean reward per episode: -808.21\n",
      "Eval num_timesteps=150000, episode_reward=-782.11 +/- 44.08\n",
      "Episode length: 200.00 +/- 0.00\n"
     ]
    },
    {
     "name": "stderr",
     "output_type": "stream",
     "text": [
      "2025-06-10 09:44:15,935 - INFO - save_on_base_reward_callback.py:_on_step - : Saving new best model to ./logs/Pendulum-v1_ppo\\best_model.zip in C:\\Development\\Python\\AI\\ReinforcementLearning\\PyData2025-Presentation\\repo\\Hands-on-workshop-on-Reinforcement-Learning-Pydata2025\\demos\\pendulum\\src\\main\\rl_algorithms\\train_evaluate_test\\save_on_base_reward_callback.py:66\n"
     ]
    },
    {
     "name": "stdout",
     "output_type": "stream",
     "text": [
      "Num timesteps: 151000\n",
      "Best mean reward: -806.08 - Last mean reward per episode: -805.16\n"
     ]
    },
    {
     "name": "stderr",
     "output_type": "stream",
     "text": [
      "2025-06-10 09:44:18,317 - INFO - save_on_base_reward_callback.py:_on_step - : Saving new best model to ./logs/Pendulum-v1_ppo\\best_model.zip in C:\\Development\\Python\\AI\\ReinforcementLearning\\PyData2025-Presentation\\repo\\Hands-on-workshop-on-Reinforcement-Learning-Pydata2025\\demos\\pendulum\\src\\main\\rl_algorithms\\train_evaluate_test\\save_on_base_reward_callback.py:66\n"
     ]
    },
    {
     "name": "stdout",
     "output_type": "stream",
     "text": [
      "Num timesteps: 152000\n",
      "Best mean reward: -805.16 - Last mean reward per episode: -803.27\n"
     ]
    },
    {
     "name": "stderr",
     "output_type": "stream",
     "text": [
      "2025-06-10 09:44:19,021 - INFO - save_on_base_reward_callback.py:_on_step - : Saving new best model to ./logs/Pendulum-v1_ppo\\best_model.zip in C:\\Development\\Python\\AI\\ReinforcementLearning\\PyData2025-Presentation\\repo\\Hands-on-workshop-on-Reinforcement-Learning-Pydata2025\\demos\\pendulum\\src\\main\\rl_algorithms\\train_evaluate_test\\save_on_base_reward_callback.py:66\n"
     ]
    },
    {
     "name": "stdout",
     "output_type": "stream",
     "text": [
      "Num timesteps: 153000\n",
      "Best mean reward: -803.27 - Last mean reward per episode: -799.46\n"
     ]
    },
    {
     "name": "stderr",
     "output_type": "stream",
     "text": [
      "2025-06-10 09:44:21,264 - INFO - save_on_base_reward_callback.py:_on_step - : Saving new best model to ./logs/Pendulum-v1_ppo\\best_model.zip in C:\\Development\\Python\\AI\\ReinforcementLearning\\PyData2025-Presentation\\repo\\Hands-on-workshop-on-Reinforcement-Learning-Pydata2025\\demos\\pendulum\\src\\main\\rl_algorithms\\train_evaluate_test\\save_on_base_reward_callback.py:66\n"
     ]
    },
    {
     "name": "stdout",
     "output_type": "stream",
     "text": [
      "Num timesteps: 154000\n",
      "Best mean reward: -799.46 - Last mean reward per episode: -795.51\n",
      "Num timesteps: 155000\n",
      "Best mean reward: -795.51 - Last mean reward per episode: -798.46\n",
      "Num timesteps: 156000\n",
      "Best mean reward: -795.51 - Last mean reward per episode: -800.38\n",
      "Num timesteps: 157000\n",
      "Best mean reward: -795.51 - Last mean reward per episode: -801.77\n",
      "Num timesteps: 158000\n",
      "Best mean reward: -795.51 - Last mean reward per episode: -801.91\n",
      "Num timesteps: 159000\n",
      "Best mean reward: -795.51 - Last mean reward per episode: -803.52\n",
      "Num timesteps: 160000\n",
      "Best mean reward: -795.51 - Last mean reward per episode: -804.24\n",
      "Eval num_timesteps=160000, episode_reward=-641.66 +/- 56.23\n",
      "Episode length: 200.00 +/- 0.00\n",
      "New best mean reward!\n"
     ]
    },
    {
     "name": "stderr",
     "output_type": "stream",
     "text": [
      "2025-06-10 09:44:32,058 - INFO - save_on_base_reward_callback.py:_on_step - : Saving new best model to ./logs/Pendulum-v1_ppo\\best_model.zip in C:\\Development\\Python\\AI\\ReinforcementLearning\\PyData2025-Presentation\\repo\\Hands-on-workshop-on-Reinforcement-Learning-Pydata2025\\demos\\pendulum\\src\\main\\rl_algorithms\\train_evaluate_test\\save_on_base_reward_callback.py:66\n"
     ]
    },
    {
     "name": "stdout",
     "output_type": "stream",
     "text": [
      "Num timesteps: 161000\n",
      "Best mean reward: -795.51 - Last mean reward per episode: -791.27\n"
     ]
    },
    {
     "name": "stderr",
     "output_type": "stream",
     "text": [
      "2025-06-10 09:44:34,124 - INFO - save_on_base_reward_callback.py:_on_step - : Saving new best model to ./logs/Pendulum-v1_ppo\\best_model.zip in C:\\Development\\Python\\AI\\ReinforcementLearning\\PyData2025-Presentation\\repo\\Hands-on-workshop-on-Reinforcement-Learning-Pydata2025\\demos\\pendulum\\src\\main\\rl_algorithms\\train_evaluate_test\\save_on_base_reward_callback.py:66\n"
     ]
    },
    {
     "name": "stdout",
     "output_type": "stream",
     "text": [
      "Num timesteps: 162000\n",
      "Best mean reward: -791.27 - Last mean reward per episode: -785.02\n"
     ]
    },
    {
     "name": "stderr",
     "output_type": "stream",
     "text": [
      "2025-06-10 09:44:34,857 - INFO - save_on_base_reward_callback.py:_on_step - : Saving new best model to ./logs/Pendulum-v1_ppo\\best_model.zip in C:\\Development\\Python\\AI\\ReinforcementLearning\\PyData2025-Presentation\\repo\\Hands-on-workshop-on-Reinforcement-Learning-Pydata2025\\demos\\pendulum\\src\\main\\rl_algorithms\\train_evaluate_test\\save_on_base_reward_callback.py:66\n"
     ]
    },
    {
     "name": "stdout",
     "output_type": "stream",
     "text": [
      "Num timesteps: 163000\n",
      "Best mean reward: -785.02 - Last mean reward per episode: -782.00\n"
     ]
    },
    {
     "name": "stderr",
     "output_type": "stream",
     "text": [
      "2025-06-10 09:44:37,027 - INFO - save_on_base_reward_callback.py:_on_step - : Saving new best model to ./logs/Pendulum-v1_ppo\\best_model.zip in C:\\Development\\Python\\AI\\ReinforcementLearning\\PyData2025-Presentation\\repo\\Hands-on-workshop-on-Reinforcement-Learning-Pydata2025\\demos\\pendulum\\src\\main\\rl_algorithms\\train_evaluate_test\\save_on_base_reward_callback.py:66\n"
     ]
    },
    {
     "name": "stdout",
     "output_type": "stream",
     "text": [
      "Num timesteps: 164000\n",
      "Best mean reward: -782.00 - Last mean reward per episode: -779.93\n"
     ]
    },
    {
     "name": "stderr",
     "output_type": "stream",
     "text": [
      "2025-06-10 09:44:37,754 - INFO - save_on_base_reward_callback.py:_on_step - : Saving new best model to ./logs/Pendulum-v1_ppo\\best_model.zip in C:\\Development\\Python\\AI\\ReinforcementLearning\\PyData2025-Presentation\\repo\\Hands-on-workshop-on-Reinforcement-Learning-Pydata2025\\demos\\pendulum\\src\\main\\rl_algorithms\\train_evaluate_test\\save_on_base_reward_callback.py:66\n"
     ]
    },
    {
     "name": "stdout",
     "output_type": "stream",
     "text": [
      "Num timesteps: 165000\n",
      "Best mean reward: -779.93 - Last mean reward per episode: -778.12\n"
     ]
    },
    {
     "name": "stderr",
     "output_type": "stream",
     "text": [
      "2025-06-10 09:44:40,019 - INFO - save_on_base_reward_callback.py:_on_step - : Saving new best model to ./logs/Pendulum-v1_ppo\\best_model.zip in C:\\Development\\Python\\AI\\ReinforcementLearning\\PyData2025-Presentation\\repo\\Hands-on-workshop-on-Reinforcement-Learning-Pydata2025\\demos\\pendulum\\src\\main\\rl_algorithms\\train_evaluate_test\\save_on_base_reward_callback.py:66\n"
     ]
    },
    {
     "name": "stdout",
     "output_type": "stream",
     "text": [
      "Num timesteps: 166000\n",
      "Best mean reward: -778.12 - Last mean reward per episode: -773.70\n"
     ]
    },
    {
     "name": "stderr",
     "output_type": "stream",
     "text": [
      "2025-06-10 09:44:40,764 - INFO - save_on_base_reward_callback.py:_on_step - : Saving new best model to ./logs/Pendulum-v1_ppo\\best_model.zip in C:\\Development\\Python\\AI\\ReinforcementLearning\\PyData2025-Presentation\\repo\\Hands-on-workshop-on-Reinforcement-Learning-Pydata2025\\demos\\pendulum\\src\\main\\rl_algorithms\\train_evaluate_test\\save_on_base_reward_callback.py:66\n"
     ]
    },
    {
     "name": "stdout",
     "output_type": "stream",
     "text": [
      "Num timesteps: 167000\n",
      "Best mean reward: -773.70 - Last mean reward per episode: -768.24\n"
     ]
    },
    {
     "name": "stderr",
     "output_type": "stream",
     "text": [
      "2025-06-10 09:44:43,041 - INFO - save_on_base_reward_callback.py:_on_step - : Saving new best model to ./logs/Pendulum-v1_ppo\\best_model.zip in C:\\Development\\Python\\AI\\ReinforcementLearning\\PyData2025-Presentation\\repo\\Hands-on-workshop-on-Reinforcement-Learning-Pydata2025\\demos\\pendulum\\src\\main\\rl_algorithms\\train_evaluate_test\\save_on_base_reward_callback.py:66\n"
     ]
    },
    {
     "name": "stdout",
     "output_type": "stream",
     "text": [
      "Num timesteps: 168000\n",
      "Best mean reward: -768.24 - Last mean reward per episode: -766.05\n"
     ]
    },
    {
     "name": "stderr",
     "output_type": "stream",
     "text": [
      "2025-06-10 09:44:43,778 - INFO - save_on_base_reward_callback.py:_on_step - : Saving new best model to ./logs/Pendulum-v1_ppo\\best_model.zip in C:\\Development\\Python\\AI\\ReinforcementLearning\\PyData2025-Presentation\\repo\\Hands-on-workshop-on-Reinforcement-Learning-Pydata2025\\demos\\pendulum\\src\\main\\rl_algorithms\\train_evaluate_test\\save_on_base_reward_callback.py:66\n"
     ]
    },
    {
     "name": "stdout",
     "output_type": "stream",
     "text": [
      "Num timesteps: 169000\n",
      "Best mean reward: -766.05 - Last mean reward per episode: -761.28\n"
     ]
    },
    {
     "name": "stderr",
     "output_type": "stream",
     "text": [
      "2025-06-10 09:44:45,987 - INFO - save_on_base_reward_callback.py:_on_step - : Saving new best model to ./logs/Pendulum-v1_ppo\\best_model.zip in C:\\Development\\Python\\AI\\ReinforcementLearning\\PyData2025-Presentation\\repo\\Hands-on-workshop-on-Reinforcement-Learning-Pydata2025\\demos\\pendulum\\src\\main\\rl_algorithms\\train_evaluate_test\\save_on_base_reward_callback.py:66\n"
     ]
    },
    {
     "name": "stdout",
     "output_type": "stream",
     "text": [
      "Num timesteps: 170000\n",
      "Best mean reward: -761.28 - Last mean reward per episode: -757.67\n",
      "Eval num_timesteps=170000, episode_reward=-657.84 +/- 43.82\n",
      "Episode length: 200.00 +/- 0.00\n"
     ]
    },
    {
     "name": "stderr",
     "output_type": "stream",
     "text": [
      "2025-06-10 09:44:47,232 - INFO - save_on_base_reward_callback.py:_on_step - : Saving new best model to ./logs/Pendulum-v1_ppo\\best_model.zip in C:\\Development\\Python\\AI\\ReinforcementLearning\\PyData2025-Presentation\\repo\\Hands-on-workshop-on-Reinforcement-Learning-Pydata2025\\demos\\pendulum\\src\\main\\rl_algorithms\\train_evaluate_test\\save_on_base_reward_callback.py:66\n"
     ]
    },
    {
     "name": "stdout",
     "output_type": "stream",
     "text": [
      "Num timesteps: 171000\n",
      "Best mean reward: -757.67 - Last mean reward per episode: -748.10\n"
     ]
    },
    {
     "name": "stderr",
     "output_type": "stream",
     "text": [
      "2025-06-10 09:44:48,007 - INFO - save_on_base_reward_callback.py:_on_step - : Saving new best model to ./logs/Pendulum-v1_ppo\\best_model.zip in C:\\Development\\Python\\AI\\ReinforcementLearning\\PyData2025-Presentation\\repo\\Hands-on-workshop-on-Reinforcement-Learning-Pydata2025\\demos\\pendulum\\src\\main\\rl_algorithms\\train_evaluate_test\\save_on_base_reward_callback.py:66\n"
     ]
    },
    {
     "name": "stdout",
     "output_type": "stream",
     "text": [
      "Num timesteps: 172000\n",
      "Best mean reward: -748.10 - Last mean reward per episode: -747.69\n"
     ]
    },
    {
     "name": "stderr",
     "output_type": "stream",
     "text": [
      "2025-06-10 09:44:50,313 - INFO - save_on_base_reward_callback.py:_on_step - : Saving new best model to ./logs/Pendulum-v1_ppo\\best_model.zip in C:\\Development\\Python\\AI\\ReinforcementLearning\\PyData2025-Presentation\\repo\\Hands-on-workshop-on-Reinforcement-Learning-Pydata2025\\demos\\pendulum\\src\\main\\rl_algorithms\\train_evaluate_test\\save_on_base_reward_callback.py:66\n"
     ]
    },
    {
     "name": "stdout",
     "output_type": "stream",
     "text": [
      "Num timesteps: 173000\n",
      "Best mean reward: -747.69 - Last mean reward per episode: -739.93\n"
     ]
    },
    {
     "name": "stderr",
     "output_type": "stream",
     "text": [
      "2025-06-10 09:44:51,036 - INFO - save_on_base_reward_callback.py:_on_step - : Saving new best model to ./logs/Pendulum-v1_ppo\\best_model.zip in C:\\Development\\Python\\AI\\ReinforcementLearning\\PyData2025-Presentation\\repo\\Hands-on-workshop-on-Reinforcement-Learning-Pydata2025\\demos\\pendulum\\src\\main\\rl_algorithms\\train_evaluate_test\\save_on_base_reward_callback.py:66\n"
     ]
    },
    {
     "name": "stdout",
     "output_type": "stream",
     "text": [
      "Num timesteps: 174000\n",
      "Best mean reward: -739.93 - Last mean reward per episode: -735.40\n"
     ]
    },
    {
     "name": "stderr",
     "output_type": "stream",
     "text": [
      "2025-06-10 09:44:53,210 - INFO - save_on_base_reward_callback.py:_on_step - : Saving new best model to ./logs/Pendulum-v1_ppo\\best_model.zip in C:\\Development\\Python\\AI\\ReinforcementLearning\\PyData2025-Presentation\\repo\\Hands-on-workshop-on-Reinforcement-Learning-Pydata2025\\demos\\pendulum\\src\\main\\rl_algorithms\\train_evaluate_test\\save_on_base_reward_callback.py:66\n"
     ]
    },
    {
     "name": "stdout",
     "output_type": "stream",
     "text": [
      "Num timesteps: 175000\n",
      "Best mean reward: -735.40 - Last mean reward per episode: -724.16\n"
     ]
    },
    {
     "name": "stderr",
     "output_type": "stream",
     "text": [
      "2025-06-10 09:44:53,920 - INFO - save_on_base_reward_callback.py:_on_step - : Saving new best model to ./logs/Pendulum-v1_ppo\\best_model.zip in C:\\Development\\Python\\AI\\ReinforcementLearning\\PyData2025-Presentation\\repo\\Hands-on-workshop-on-Reinforcement-Learning-Pydata2025\\demos\\pendulum\\src\\main\\rl_algorithms\\train_evaluate_test\\save_on_base_reward_callback.py:66\n"
     ]
    },
    {
     "name": "stdout",
     "output_type": "stream",
     "text": [
      "Num timesteps: 176000\n",
      "Best mean reward: -724.16 - Last mean reward per episode: -716.90\n"
     ]
    },
    {
     "name": "stderr",
     "output_type": "stream",
     "text": [
      "2025-06-10 09:44:56,115 - INFO - save_on_base_reward_callback.py:_on_step - : Saving new best model to ./logs/Pendulum-v1_ppo\\best_model.zip in C:\\Development\\Python\\AI\\ReinforcementLearning\\PyData2025-Presentation\\repo\\Hands-on-workshop-on-Reinforcement-Learning-Pydata2025\\demos\\pendulum\\src\\main\\rl_algorithms\\train_evaluate_test\\save_on_base_reward_callback.py:66\n"
     ]
    },
    {
     "name": "stdout",
     "output_type": "stream",
     "text": [
      "Num timesteps: 177000\n",
      "Best mean reward: -716.90 - Last mean reward per episode: -714.19\n"
     ]
    },
    {
     "name": "stderr",
     "output_type": "stream",
     "text": [
      "2025-06-10 09:44:56,843 - INFO - save_on_base_reward_callback.py:_on_step - : Saving new best model to ./logs/Pendulum-v1_ppo\\best_model.zip in C:\\Development\\Python\\AI\\ReinforcementLearning\\PyData2025-Presentation\\repo\\Hands-on-workshop-on-Reinforcement-Learning-Pydata2025\\demos\\pendulum\\src\\main\\rl_algorithms\\train_evaluate_test\\save_on_base_reward_callback.py:66\n"
     ]
    },
    {
     "name": "stdout",
     "output_type": "stream",
     "text": [
      "Num timesteps: 178000\n",
      "Best mean reward: -714.19 - Last mean reward per episode: -707.61\n"
     ]
    },
    {
     "name": "stderr",
     "output_type": "stream",
     "text": [
      "2025-06-10 09:45:00,012 - INFO - save_on_base_reward_callback.py:_on_step - : Saving new best model to ./logs/Pendulum-v1_ppo\\best_model.zip in C:\\Development\\Python\\AI\\ReinforcementLearning\\PyData2025-Presentation\\repo\\Hands-on-workshop-on-Reinforcement-Learning-Pydata2025\\demos\\pendulum\\src\\main\\rl_algorithms\\train_evaluate_test\\save_on_base_reward_callback.py:66\n"
     ]
    },
    {
     "name": "stdout",
     "output_type": "stream",
     "text": [
      "Num timesteps: 179000\n",
      "Best mean reward: -707.61 - Last mean reward per episode: -704.91\n"
     ]
    },
    {
     "name": "stderr",
     "output_type": "stream",
     "text": [
      "2025-06-10 09:45:00,852 - INFO - save_on_base_reward_callback.py:_on_step - : Saving new best model to ./logs/Pendulum-v1_ppo\\best_model.zip in C:\\Development\\Python\\AI\\ReinforcementLearning\\PyData2025-Presentation\\repo\\Hands-on-workshop-on-Reinforcement-Learning-Pydata2025\\demos\\pendulum\\src\\main\\rl_algorithms\\train_evaluate_test\\save_on_base_reward_callback.py:66\n"
     ]
    },
    {
     "name": "stdout",
     "output_type": "stream",
     "text": [
      "Num timesteps: 180000\n",
      "Best mean reward: -704.91 - Last mean reward per episode: -697.58\n",
      "Eval num_timesteps=180000, episode_reward=-563.80 +/- 100.60\n",
      "Episode length: 200.00 +/- 0.00\n",
      "New best mean reward!\n"
     ]
    },
    {
     "name": "stderr",
     "output_type": "stream",
     "text": [
      "2025-06-10 09:45:03,664 - INFO - save_on_base_reward_callback.py:_on_step - : Saving new best model to ./logs/Pendulum-v1_ppo\\best_model.zip in C:\\Development\\Python\\AI\\ReinforcementLearning\\PyData2025-Presentation\\repo\\Hands-on-workshop-on-Reinforcement-Learning-Pydata2025\\demos\\pendulum\\src\\main\\rl_algorithms\\train_evaluate_test\\save_on_base_reward_callback.py:66\n"
     ]
    },
    {
     "name": "stdout",
     "output_type": "stream",
     "text": [
      "Num timesteps: 181000\n",
      "Best mean reward: -697.58 - Last mean reward per episode: -687.35\n"
     ]
    },
    {
     "name": "stderr",
     "output_type": "stream",
     "text": [
      "2025-06-10 09:45:04,403 - INFO - save_on_base_reward_callback.py:_on_step - : Saving new best model to ./logs/Pendulum-v1_ppo\\best_model.zip in C:\\Development\\Python\\AI\\ReinforcementLearning\\PyData2025-Presentation\\repo\\Hands-on-workshop-on-Reinforcement-Learning-Pydata2025\\demos\\pendulum\\src\\main\\rl_algorithms\\train_evaluate_test\\save_on_base_reward_callback.py:66\n"
     ]
    },
    {
     "name": "stdout",
     "output_type": "stream",
     "text": [
      "Num timesteps: 182000\n",
      "Best mean reward: -687.35 - Last mean reward per episode: -679.92\n"
     ]
    },
    {
     "name": "stderr",
     "output_type": "stream",
     "text": [
      "2025-06-10 09:45:06,679 - INFO - save_on_base_reward_callback.py:_on_step - : Saving new best model to ./logs/Pendulum-v1_ppo\\best_model.zip in C:\\Development\\Python\\AI\\ReinforcementLearning\\PyData2025-Presentation\\repo\\Hands-on-workshop-on-Reinforcement-Learning-Pydata2025\\demos\\pendulum\\src\\main\\rl_algorithms\\train_evaluate_test\\save_on_base_reward_callback.py:66\n"
     ]
    },
    {
     "name": "stdout",
     "output_type": "stream",
     "text": [
      "Num timesteps: 183000\n",
      "Best mean reward: -679.92 - Last mean reward per episode: -675.88\n"
     ]
    },
    {
     "name": "stderr",
     "output_type": "stream",
     "text": [
      "2025-06-10 09:45:07,383 - INFO - save_on_base_reward_callback.py:_on_step - : Saving new best model to ./logs/Pendulum-v1_ppo\\best_model.zip in C:\\Development\\Python\\AI\\ReinforcementLearning\\PyData2025-Presentation\\repo\\Hands-on-workshop-on-Reinforcement-Learning-Pydata2025\\demos\\pendulum\\src\\main\\rl_algorithms\\train_evaluate_test\\save_on_base_reward_callback.py:66\n"
     ]
    },
    {
     "name": "stdout",
     "output_type": "stream",
     "text": [
      "Num timesteps: 184000\n",
      "Best mean reward: -675.88 - Last mean reward per episode: -673.45\n"
     ]
    },
    {
     "name": "stderr",
     "output_type": "stream",
     "text": [
      "2025-06-10 09:45:09,627 - INFO - save_on_base_reward_callback.py:_on_step - : Saving new best model to ./logs/Pendulum-v1_ppo\\best_model.zip in C:\\Development\\Python\\AI\\ReinforcementLearning\\PyData2025-Presentation\\repo\\Hands-on-workshop-on-Reinforcement-Learning-Pydata2025\\demos\\pendulum\\src\\main\\rl_algorithms\\train_evaluate_test\\save_on_base_reward_callback.py:66\n"
     ]
    },
    {
     "name": "stdout",
     "output_type": "stream",
     "text": [
      "Num timesteps: 185000\n",
      "Best mean reward: -673.45 - Last mean reward per episode: -670.93\n"
     ]
    },
    {
     "name": "stderr",
     "output_type": "stream",
     "text": [
      "2025-06-10 09:45:10,356 - INFO - save_on_base_reward_callback.py:_on_step - : Saving new best model to ./logs/Pendulum-v1_ppo\\best_model.zip in C:\\Development\\Python\\AI\\ReinforcementLearning\\PyData2025-Presentation\\repo\\Hands-on-workshop-on-Reinforcement-Learning-Pydata2025\\demos\\pendulum\\src\\main\\rl_algorithms\\train_evaluate_test\\save_on_base_reward_callback.py:66\n"
     ]
    },
    {
     "name": "stdout",
     "output_type": "stream",
     "text": [
      "Num timesteps: 186000\n",
      "Best mean reward: -670.93 - Last mean reward per episode: -664.61\n"
     ]
    },
    {
     "name": "stderr",
     "output_type": "stream",
     "text": [
      "2025-06-10 09:45:12,521 - INFO - save_on_base_reward_callback.py:_on_step - : Saving new best model to ./logs/Pendulum-v1_ppo\\best_model.zip in C:\\Development\\Python\\AI\\ReinforcementLearning\\PyData2025-Presentation\\repo\\Hands-on-workshop-on-Reinforcement-Learning-Pydata2025\\demos\\pendulum\\src\\main\\rl_algorithms\\train_evaluate_test\\save_on_base_reward_callback.py:66\n"
     ]
    },
    {
     "name": "stdout",
     "output_type": "stream",
     "text": [
      "Num timesteps: 187000\n",
      "Best mean reward: -664.61 - Last mean reward per episode: -659.16\n"
     ]
    },
    {
     "name": "stderr",
     "output_type": "stream",
     "text": [
      "2025-06-10 09:45:13,280 - INFO - save_on_base_reward_callback.py:_on_step - : Saving new best model to ./logs/Pendulum-v1_ppo\\best_model.zip in C:\\Development\\Python\\AI\\ReinforcementLearning\\PyData2025-Presentation\\repo\\Hands-on-workshop-on-Reinforcement-Learning-Pydata2025\\demos\\pendulum\\src\\main\\rl_algorithms\\train_evaluate_test\\save_on_base_reward_callback.py:66\n"
     ]
    },
    {
     "name": "stdout",
     "output_type": "stream",
     "text": [
      "Num timesteps: 188000\n",
      "Best mean reward: -659.16 - Last mean reward per episode: -655.86\n"
     ]
    },
    {
     "name": "stderr",
     "output_type": "stream",
     "text": [
      "2025-06-10 09:45:15,476 - INFO - save_on_base_reward_callback.py:_on_step - : Saving new best model to ./logs/Pendulum-v1_ppo\\best_model.zip in C:\\Development\\Python\\AI\\ReinforcementLearning\\PyData2025-Presentation\\repo\\Hands-on-workshop-on-Reinforcement-Learning-Pydata2025\\demos\\pendulum\\src\\main\\rl_algorithms\\train_evaluate_test\\save_on_base_reward_callback.py:66\n"
     ]
    },
    {
     "name": "stdout",
     "output_type": "stream",
     "text": [
      "Num timesteps: 189000\n",
      "Best mean reward: -655.86 - Last mean reward per episode: -654.47\n"
     ]
    },
    {
     "name": "stderr",
     "output_type": "stream",
     "text": [
      "2025-06-10 09:45:16,180 - INFO - save_on_base_reward_callback.py:_on_step - : Saving new best model to ./logs/Pendulum-v1_ppo\\best_model.zip in C:\\Development\\Python\\AI\\ReinforcementLearning\\PyData2025-Presentation\\repo\\Hands-on-workshop-on-Reinforcement-Learning-Pydata2025\\demos\\pendulum\\src\\main\\rl_algorithms\\train_evaluate_test\\save_on_base_reward_callback.py:66\n"
     ]
    },
    {
     "name": "stdout",
     "output_type": "stream",
     "text": [
      "Num timesteps: 190000\n",
      "Best mean reward: -654.47 - Last mean reward per episode: -649.40\n",
      "Eval num_timesteps=190000, episode_reward=-559.91 +/- 104.76\n",
      "Episode length: 200.00 +/- 0.00\n",
      "New best mean reward!\n"
     ]
    },
    {
     "name": "stderr",
     "output_type": "stream",
     "text": [
      "2025-06-10 09:45:18,971 - INFO - save_on_base_reward_callback.py:_on_step - : Saving new best model to ./logs/Pendulum-v1_ppo\\best_model.zip in C:\\Development\\Python\\AI\\ReinforcementLearning\\PyData2025-Presentation\\repo\\Hands-on-workshop-on-Reinforcement-Learning-Pydata2025\\demos\\pendulum\\src\\main\\rl_algorithms\\train_evaluate_test\\save_on_base_reward_callback.py:66\n"
     ]
    },
    {
     "name": "stdout",
     "output_type": "stream",
     "text": [
      "Num timesteps: 191000\n",
      "Best mean reward: -649.40 - Last mean reward per episode: -634.64\n"
     ]
    },
    {
     "name": "stderr",
     "output_type": "stream",
     "text": [
      "2025-06-10 09:45:19,733 - INFO - save_on_base_reward_callback.py:_on_step - : Saving new best model to ./logs/Pendulum-v1_ppo\\best_model.zip in C:\\Development\\Python\\AI\\ReinforcementLearning\\PyData2025-Presentation\\repo\\Hands-on-workshop-on-Reinforcement-Learning-Pydata2025\\demos\\pendulum\\src\\main\\rl_algorithms\\train_evaluate_test\\save_on_base_reward_callback.py:66\n"
     ]
    },
    {
     "name": "stdout",
     "output_type": "stream",
     "text": [
      "Num timesteps: 192000\n",
      "Best mean reward: -634.64 - Last mean reward per episode: -630.51\n"
     ]
    },
    {
     "name": "stderr",
     "output_type": "stream",
     "text": [
      "2025-06-10 09:45:21,981 - INFO - save_on_base_reward_callback.py:_on_step - : Saving new best model to ./logs/Pendulum-v1_ppo\\best_model.zip in C:\\Development\\Python\\AI\\ReinforcementLearning\\PyData2025-Presentation\\repo\\Hands-on-workshop-on-Reinforcement-Learning-Pydata2025\\demos\\pendulum\\src\\main\\rl_algorithms\\train_evaluate_test\\save_on_base_reward_callback.py:66\n"
     ]
    },
    {
     "name": "stdout",
     "output_type": "stream",
     "text": [
      "Num timesteps: 193000\n",
      "Best mean reward: -630.51 - Last mean reward per episode: -625.85\n"
     ]
    },
    {
     "name": "stderr",
     "output_type": "stream",
     "text": [
      "2025-06-10 09:45:22,909 - INFO - save_on_base_reward_callback.py:_on_step - : Saving new best model to ./logs/Pendulum-v1_ppo\\best_model.zip in C:\\Development\\Python\\AI\\ReinforcementLearning\\PyData2025-Presentation\\repo\\Hands-on-workshop-on-Reinforcement-Learning-Pydata2025\\demos\\pendulum\\src\\main\\rl_algorithms\\train_evaluate_test\\save_on_base_reward_callback.py:66\n"
     ]
    },
    {
     "name": "stdout",
     "output_type": "stream",
     "text": [
      "Num timesteps: 194000\n",
      "Best mean reward: -625.85 - Last mean reward per episode: -619.35\n"
     ]
    },
    {
     "name": "stderr",
     "output_type": "stream",
     "text": [
      "2025-06-10 09:45:25,651 - INFO - save_on_base_reward_callback.py:_on_step - : Saving new best model to ./logs/Pendulum-v1_ppo\\best_model.zip in C:\\Development\\Python\\AI\\ReinforcementLearning\\PyData2025-Presentation\\repo\\Hands-on-workshop-on-Reinforcement-Learning-Pydata2025\\demos\\pendulum\\src\\main\\rl_algorithms\\train_evaluate_test\\save_on_base_reward_callback.py:66\n"
     ]
    },
    {
     "name": "stdout",
     "output_type": "stream",
     "text": [
      "Num timesteps: 195000\n",
      "Best mean reward: -619.35 - Last mean reward per episode: -611.00\n"
     ]
    },
    {
     "name": "stderr",
     "output_type": "stream",
     "text": [
      "2025-06-10 09:45:26,394 - INFO - save_on_base_reward_callback.py:_on_step - : Saving new best model to ./logs/Pendulum-v1_ppo\\best_model.zip in C:\\Development\\Python\\AI\\ReinforcementLearning\\PyData2025-Presentation\\repo\\Hands-on-workshop-on-Reinforcement-Learning-Pydata2025\\demos\\pendulum\\src\\main\\rl_algorithms\\train_evaluate_test\\save_on_base_reward_callback.py:66\n"
     ]
    },
    {
     "name": "stdout",
     "output_type": "stream",
     "text": [
      "Num timesteps: 196000\n",
      "Best mean reward: -611.00 - Last mean reward per episode: -606.17\n"
     ]
    },
    {
     "name": "stderr",
     "output_type": "stream",
     "text": [
      "2025-06-10 09:45:28,611 - INFO - save_on_base_reward_callback.py:_on_step - : Saving new best model to ./logs/Pendulum-v1_ppo\\best_model.zip in C:\\Development\\Python\\AI\\ReinforcementLearning\\PyData2025-Presentation\\repo\\Hands-on-workshop-on-Reinforcement-Learning-Pydata2025\\demos\\pendulum\\src\\main\\rl_algorithms\\train_evaluate_test\\save_on_base_reward_callback.py:66\n"
     ]
    },
    {
     "name": "stdout",
     "output_type": "stream",
     "text": [
      "Num timesteps: 197000\n",
      "Best mean reward: -606.17 - Last mean reward per episode: -600.03\n"
     ]
    },
    {
     "name": "stderr",
     "output_type": "stream",
     "text": [
      "2025-06-10 09:45:29,364 - INFO - save_on_base_reward_callback.py:_on_step - : Saving new best model to ./logs/Pendulum-v1_ppo\\best_model.zip in C:\\Development\\Python\\AI\\ReinforcementLearning\\PyData2025-Presentation\\repo\\Hands-on-workshop-on-Reinforcement-Learning-Pydata2025\\demos\\pendulum\\src\\main\\rl_algorithms\\train_evaluate_test\\save_on_base_reward_callback.py:66\n"
     ]
    },
    {
     "name": "stdout",
     "output_type": "stream",
     "text": [
      "Num timesteps: 198000\n",
      "Best mean reward: -600.03 - Last mean reward per episode: -594.99\n"
     ]
    },
    {
     "name": "stderr",
     "output_type": "stream",
     "text": [
      "2025-06-10 09:45:31,576 - INFO - save_on_base_reward_callback.py:_on_step - : Saving new best model to ./logs/Pendulum-v1_ppo\\best_model.zip in C:\\Development\\Python\\AI\\ReinforcementLearning\\PyData2025-Presentation\\repo\\Hands-on-workshop-on-Reinforcement-Learning-Pydata2025\\demos\\pendulum\\src\\main\\rl_algorithms\\train_evaluate_test\\save_on_base_reward_callback.py:66\n"
     ]
    },
    {
     "name": "stdout",
     "output_type": "stream",
     "text": [
      "Num timesteps: 199000\n",
      "Best mean reward: -594.99 - Last mean reward per episode: -592.76\n"
     ]
    },
    {
     "name": "stderr",
     "output_type": "stream",
     "text": [
      "2025-06-10 09:45:32,365 - INFO - save_on_base_reward_callback.py:_on_step - : Saving new best model to ./logs/Pendulum-v1_ppo\\best_model.zip in C:\\Development\\Python\\AI\\ReinforcementLearning\\PyData2025-Presentation\\repo\\Hands-on-workshop-on-Reinforcement-Learning-Pydata2025\\demos\\pendulum\\src\\main\\rl_algorithms\\train_evaluate_test\\save_on_base_reward_callback.py:66\n"
     ]
    },
    {
     "name": "stdout",
     "output_type": "stream",
     "text": [
      "Num timesteps: 200000\n",
      "Best mean reward: -592.76 - Last mean reward per episode: -582.00\n",
      "Eval num_timesteps=200000, episode_reward=-454.28 +/- 60.37\n",
      "Episode length: 200.00 +/- 0.00\n",
      "New best mean reward!\n"
     ]
    }
   ],
   "execution_count": 3
  },
  {
   "metadata": {},
   "cell_type": "markdown",
   "source": "#### Step 4: Plot the reward curves of the trained RL agent",
   "id": "17b916e5ebdbe33c"
  },
  {
   "metadata": {
    "ExecuteTime": {
     "end_time": "2025-06-10T08:45:35.260779Z",
     "start_time": "2025-06-10T08:45:34.884151Z"
    }
   },
   "cell_type": "code",
   "source": [
    "rewards = Helpers.getSmoothedAverageRewards(\n",
    "    env_name=pendulum_name,\n",
    "    rl_algo_name=rl_algorithm.name\n",
    ")\n",
    "ChartResults.plotRewardCurve(rewards, window_size=200)\n"
   ],
   "id": "c08df54a053f857b",
   "outputs": [
    {
     "data": {
      "text/plain": [
       "<Figure size 1500x1500 with 2 Axes>"
      ],
      "image/png": "[encoded data removed]"
     },
     "metadata": {},
     "output_type": "display_data"
    }
   ],
   "execution_count": 4
  },
  {
   "metadata": {},
   "cell_type": "markdown",
   "source": "#### Step 5: Evaluate the trained PPO RL agent",
   "id": "848729d229562e70"
  },
  {
   "metadata": {
    "ExecuteTime": {
     "end_time": "2025-06-10T08:47:52.372245Z",
     "start_time": "2025-06-10T08:45:35.277881Z"
    }
   },
   "cell_type": "code",
   "source": [
    "eval_env = gym.make(pendulum_name, render_mode=\"human\")\n",
    "eval_rewards = ppo_agent.evaluate(env=eval_env)"
   ],
   "id": "3b68de3d2e8b639",
   "outputs": [],
   "execution_count": 5
  },
  {
   "metadata": {
    "ExecuteTime": {
     "end_time": "2025-06-10T08:47:52.585548Z",
     "start_time": "2025-06-10T08:47:52.577578Z"
    }
   },
   "cell_type": "code",
   "source": "",
   "id": "14ef444f4e8cd240",
   "outputs": [],
   "execution_count": null
  }
 ],
 "metadata": {
  "kernelspec": {
   "display_name": "Python 3",
   "language": "python",
   "name": "python3"
  },
  "language_info": {
   "codemirror_mode": {
    "name": "ipython",
    "version": 2
   },
   "file_extension": ".py",
   "mimetype": "text/x-python",
   "name": "python",
   "nbconvert_exporter": "python",
   "pygments_lexer": "ipython2",
   "version": "2.7.6"
  }
 },
 "nbformat": 4,
 "nbformat_minor": 5
}
